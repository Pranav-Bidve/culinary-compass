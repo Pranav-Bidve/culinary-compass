{
 "cells": [
  {
   "cell_type": "markdown",
   "id": "8cf69fa9",
   "metadata": {},
   "source": [
    "# Zomato Selection"
   ]
  },
  {
   "cell_type": "code",
   "execution_count": 1,
   "id": "65517b1a",
   "metadata": {},
   "outputs": [],
   "source": [
    "import pandas as pd\n",
    "import numpy as np"
   ]
  },
  {
   "cell_type": "code",
   "execution_count": 2,
   "id": "94009940",
   "metadata": {},
   "outputs": [],
   "source": [
    "from sklearn import set_config\n",
    "set_config(display = 'diagram')"
   ]
  },
  {
   "cell_type": "markdown",
   "id": "bc6aa4d2",
   "metadata": {},
   "source": [
    "## Data collection and inspection"
   ]
  },
  {
   "cell_type": "code",
   "execution_count": 3,
   "id": "274e1344",
   "metadata": {
    "scrolled": true
   },
   "outputs": [
    {
     "data": {
      "text/html": [
       "<div>\n",
       "<style scoped>\n",
       "    .dataframe tbody tr th:only-of-type {\n",
       "        vertical-align: middle;\n",
       "    }\n",
       "\n",
       "    .dataframe tbody tr th {\n",
       "        vertical-align: top;\n",
       "    }\n",
       "\n",
       "    .dataframe thead th {\n",
       "        text-align: right;\n",
       "    }\n",
       "</style>\n",
       "<table border=\"1\" class=\"dataframe\">\n",
       "  <thead>\n",
       "    <tr style=\"text-align: right;\">\n",
       "      <th></th>\n",
       "      <th>url</th>\n",
       "      <th>address</th>\n",
       "      <th>name</th>\n",
       "      <th>online_order</th>\n",
       "      <th>book_table</th>\n",
       "      <th>rate</th>\n",
       "      <th>votes</th>\n",
       "      <th>phone</th>\n",
       "      <th>location</th>\n",
       "      <th>rest_type</th>\n",
       "      <th>dish_liked</th>\n",
       "      <th>cuisines</th>\n",
       "      <th>approx_cost(for two people)</th>\n",
       "      <th>reviews_list</th>\n",
       "      <th>menu_item</th>\n",
       "      <th>listed_in(type)</th>\n",
       "      <th>listed_in(city)</th>\n",
       "    </tr>\n",
       "  </thead>\n",
       "  <tbody>\n",
       "    <tr>\n",
       "      <th>0</th>\n",
       "      <td>https://www.zomato.com/bangalore/jalsa-banasha...</td>\n",
       "      <td>942, 21st Main Road, 2nd Stage, Banashankari, ...</td>\n",
       "      <td>Jalsa</td>\n",
       "      <td>Yes</td>\n",
       "      <td>Yes</td>\n",
       "      <td>4.1/5</td>\n",
       "      <td>775</td>\n",
       "      <td>080 42297555\\r\\n+91 9743772233</td>\n",
       "      <td>Banashankari</td>\n",
       "      <td>Casual Dining</td>\n",
       "      <td>Pasta, Lunch Buffet, Masala Papad, Paneer Laja...</td>\n",
       "      <td>North Indian, Mughlai, Chinese</td>\n",
       "      <td>800</td>\n",
       "      <td>[('Rated 4.0', 'RATED\\n  A beautiful place to ...</td>\n",
       "      <td>[]</td>\n",
       "      <td>Buffet</td>\n",
       "      <td>Banashankari</td>\n",
       "    </tr>\n",
       "    <tr>\n",
       "      <th>1</th>\n",
       "      <td>https://www.zomato.com/bangalore/spice-elephan...</td>\n",
       "      <td>2nd Floor, 80 Feet Road, Near Big Bazaar, 6th ...</td>\n",
       "      <td>Spice Elephant</td>\n",
       "      <td>Yes</td>\n",
       "      <td>No</td>\n",
       "      <td>4.1/5</td>\n",
       "      <td>787</td>\n",
       "      <td>080 41714161</td>\n",
       "      <td>Banashankari</td>\n",
       "      <td>Casual Dining</td>\n",
       "      <td>Momos, Lunch Buffet, Chocolate Nirvana, Thai G...</td>\n",
       "      <td>Chinese, North Indian, Thai</td>\n",
       "      <td>800</td>\n",
       "      <td>[('Rated 4.0', 'RATED\\n  Had been here for din...</td>\n",
       "      <td>[]</td>\n",
       "      <td>Buffet</td>\n",
       "      <td>Banashankari</td>\n",
       "    </tr>\n",
       "    <tr>\n",
       "      <th>2</th>\n",
       "      <td>https://www.zomato.com/SanchurroBangalore?cont...</td>\n",
       "      <td>1112, Next to KIMS Medical College, 17th Cross...</td>\n",
       "      <td>San Churro Cafe</td>\n",
       "      <td>Yes</td>\n",
       "      <td>No</td>\n",
       "      <td>3.8/5</td>\n",
       "      <td>918</td>\n",
       "      <td>+91 9663487993</td>\n",
       "      <td>Banashankari</td>\n",
       "      <td>Cafe, Casual Dining</td>\n",
       "      <td>Churros, Cannelloni, Minestrone Soup, Hot Choc...</td>\n",
       "      <td>Cafe, Mexican, Italian</td>\n",
       "      <td>800</td>\n",
       "      <td>[('Rated 3.0', \"RATED\\n  Ambience is not that ...</td>\n",
       "      <td>[]</td>\n",
       "      <td>Buffet</td>\n",
       "      <td>Banashankari</td>\n",
       "    </tr>\n",
       "    <tr>\n",
       "      <th>3</th>\n",
       "      <td>https://www.zomato.com/bangalore/addhuri-udupi...</td>\n",
       "      <td>1st Floor, Annakuteera, 3rd Stage, Banashankar...</td>\n",
       "      <td>Addhuri Udupi Bhojana</td>\n",
       "      <td>No</td>\n",
       "      <td>No</td>\n",
       "      <td>3.7/5</td>\n",
       "      <td>88</td>\n",
       "      <td>+91 9620009302</td>\n",
       "      <td>Banashankari</td>\n",
       "      <td>Quick Bites</td>\n",
       "      <td>Masala Dosa</td>\n",
       "      <td>South Indian, North Indian</td>\n",
       "      <td>300</td>\n",
       "      <td>[('Rated 4.0', \"RATED\\n  Great food and proper...</td>\n",
       "      <td>[]</td>\n",
       "      <td>Buffet</td>\n",
       "      <td>Banashankari</td>\n",
       "    </tr>\n",
       "    <tr>\n",
       "      <th>4</th>\n",
       "      <td>https://www.zomato.com/bangalore/grand-village...</td>\n",
       "      <td>10, 3rd Floor, Lakshmi Associates, Gandhi Baza...</td>\n",
       "      <td>Grand Village</td>\n",
       "      <td>No</td>\n",
       "      <td>No</td>\n",
       "      <td>3.8/5</td>\n",
       "      <td>166</td>\n",
       "      <td>+91 8026612447\\r\\n+91 9901210005</td>\n",
       "      <td>Basavanagudi</td>\n",
       "      <td>Casual Dining</td>\n",
       "      <td>Panipuri, Gol Gappe</td>\n",
       "      <td>North Indian, Rajasthani</td>\n",
       "      <td>600</td>\n",
       "      <td>[('Rated 4.0', 'RATED\\n  Very good restaurant ...</td>\n",
       "      <td>[]</td>\n",
       "      <td>Buffet</td>\n",
       "      <td>Banashankari</td>\n",
       "    </tr>\n",
       "  </tbody>\n",
       "</table>\n",
       "</div>"
      ],
      "text/plain": [
       "                                                 url  \\\n",
       "0  https://www.zomato.com/bangalore/jalsa-banasha...   \n",
       "1  https://www.zomato.com/bangalore/spice-elephan...   \n",
       "2  https://www.zomato.com/SanchurroBangalore?cont...   \n",
       "3  https://www.zomato.com/bangalore/addhuri-udupi...   \n",
       "4  https://www.zomato.com/bangalore/grand-village...   \n",
       "\n",
       "                                             address                   name  \\\n",
       "0  942, 21st Main Road, 2nd Stage, Banashankari, ...                  Jalsa   \n",
       "1  2nd Floor, 80 Feet Road, Near Big Bazaar, 6th ...         Spice Elephant   \n",
       "2  1112, Next to KIMS Medical College, 17th Cross...        San Churro Cafe   \n",
       "3  1st Floor, Annakuteera, 3rd Stage, Banashankar...  Addhuri Udupi Bhojana   \n",
       "4  10, 3rd Floor, Lakshmi Associates, Gandhi Baza...          Grand Village   \n",
       "\n",
       "  online_order book_table   rate  votes                             phone  \\\n",
       "0          Yes        Yes  4.1/5    775    080 42297555\\r\\n+91 9743772233   \n",
       "1          Yes         No  4.1/5    787                      080 41714161   \n",
       "2          Yes         No  3.8/5    918                    +91 9663487993   \n",
       "3           No         No  3.7/5     88                    +91 9620009302   \n",
       "4           No         No  3.8/5    166  +91 8026612447\\r\\n+91 9901210005   \n",
       "\n",
       "       location            rest_type  \\\n",
       "0  Banashankari        Casual Dining   \n",
       "1  Banashankari        Casual Dining   \n",
       "2  Banashankari  Cafe, Casual Dining   \n",
       "3  Banashankari          Quick Bites   \n",
       "4  Basavanagudi        Casual Dining   \n",
       "\n",
       "                                          dish_liked  \\\n",
       "0  Pasta, Lunch Buffet, Masala Papad, Paneer Laja...   \n",
       "1  Momos, Lunch Buffet, Chocolate Nirvana, Thai G...   \n",
       "2  Churros, Cannelloni, Minestrone Soup, Hot Choc...   \n",
       "3                                        Masala Dosa   \n",
       "4                                Panipuri, Gol Gappe   \n",
       "\n",
       "                         cuisines approx_cost(for two people)  \\\n",
       "0  North Indian, Mughlai, Chinese                         800   \n",
       "1     Chinese, North Indian, Thai                         800   \n",
       "2          Cafe, Mexican, Italian                         800   \n",
       "3      South Indian, North Indian                         300   \n",
       "4        North Indian, Rajasthani                         600   \n",
       "\n",
       "                                        reviews_list menu_item  \\\n",
       "0  [('Rated 4.0', 'RATED\\n  A beautiful place to ...        []   \n",
       "1  [('Rated 4.0', 'RATED\\n  Had been here for din...        []   \n",
       "2  [('Rated 3.0', \"RATED\\n  Ambience is not that ...        []   \n",
       "3  [('Rated 4.0', \"RATED\\n  Great food and proper...        []   \n",
       "4  [('Rated 4.0', 'RATED\\n  Very good restaurant ...        []   \n",
       "\n",
       "  listed_in(type) listed_in(city)  \n",
       "0          Buffet    Banashankari  \n",
       "1          Buffet    Banashankari  \n",
       "2          Buffet    Banashankari  \n",
       "3          Buffet    Banashankari  \n",
       "4          Buffet    Banashankari  "
      ]
     },
     "execution_count": 3,
     "metadata": {},
     "output_type": "execute_result"
    }
   ],
   "source": [
    "data = pd.read_csv('zomato.csv',  dtype = {'rate':'string', 'reviews_list':'string'}, nrows = 10000)\n",
    "data.head()"
   ]
  },
  {
   "cell_type": "code",
   "execution_count": 4,
   "id": "a79d49c7",
   "metadata": {},
   "outputs": [],
   "source": [
    "data.drop(['address', 'phone', 'menu_item'], axis = 1, inplace = True)"
   ]
  },
  {
   "cell_type": "code",
   "execution_count": 5,
   "id": "ad070331",
   "metadata": {},
   "outputs": [
    {
     "data": {
      "text/plain": [
       "(10000, 14)"
      ]
     },
     "execution_count": 5,
     "metadata": {},
     "output_type": "execute_result"
    }
   ],
   "source": [
    "data.shape"
   ]
  },
  {
   "cell_type": "code",
   "execution_count": 6,
   "id": "8d9c48f0",
   "metadata": {},
   "outputs": [
    {
     "data": {
      "text/plain": [
       "url                               0\n",
       "name                              0\n",
       "online_order                      0\n",
       "book_table                        0\n",
       "rate                           1372\n",
       "votes                             0\n",
       "location                          2\n",
       "rest_type                        51\n",
       "dish_liked                     5550\n",
       "cuisines                         10\n",
       "approx_cost(for two people)      20\n",
       "reviews_list                      0\n",
       "listed_in(type)                   0\n",
       "listed_in(city)                   0\n",
       "dtype: int64"
      ]
     },
     "execution_count": 6,
     "metadata": {},
     "output_type": "execute_result"
    }
   ],
   "source": [
    "data.isnull().sum()"
   ]
  },
  {
   "cell_type": "code",
   "execution_count": 7,
   "id": "bbdf9c14",
   "metadata": {},
   "outputs": [
    {
     "data": {
      "text/html": [
       "<div>\n",
       "<style scoped>\n",
       "    .dataframe tbody tr th:only-of-type {\n",
       "        vertical-align: middle;\n",
       "    }\n",
       "\n",
       "    .dataframe tbody tr th {\n",
       "        vertical-align: top;\n",
       "    }\n",
       "\n",
       "    .dataframe thead th {\n",
       "        text-align: right;\n",
       "    }\n",
       "</style>\n",
       "<table border=\"1\" class=\"dataframe\">\n",
       "  <thead>\n",
       "    <tr style=\"text-align: right;\">\n",
       "      <th></th>\n",
       "      <th>votes</th>\n",
       "    </tr>\n",
       "  </thead>\n",
       "  <tbody>\n",
       "    <tr>\n",
       "      <th>count</th>\n",
       "      <td>10000.000000</td>\n",
       "    </tr>\n",
       "    <tr>\n",
       "      <th>mean</th>\n",
       "      <td>245.569200</td>\n",
       "    </tr>\n",
       "    <tr>\n",
       "      <th>std</th>\n",
       "      <td>711.891229</td>\n",
       "    </tr>\n",
       "    <tr>\n",
       "      <th>min</th>\n",
       "      <td>0.000000</td>\n",
       "    </tr>\n",
       "    <tr>\n",
       "      <th>25%</th>\n",
       "      <td>7.000000</td>\n",
       "    </tr>\n",
       "    <tr>\n",
       "      <th>50%</th>\n",
       "      <td>41.000000</td>\n",
       "    </tr>\n",
       "    <tr>\n",
       "      <th>75%</th>\n",
       "      <td>178.000000</td>\n",
       "    </tr>\n",
       "    <tr>\n",
       "      <th>max</th>\n",
       "      <td>16345.000000</td>\n",
       "    </tr>\n",
       "  </tbody>\n",
       "</table>\n",
       "</div>"
      ],
      "text/plain": [
       "              votes\n",
       "count  10000.000000\n",
       "mean     245.569200\n",
       "std      711.891229\n",
       "min        0.000000\n",
       "25%        7.000000\n",
       "50%       41.000000\n",
       "75%      178.000000\n",
       "max    16345.000000"
      ]
     },
     "execution_count": 7,
     "metadata": {},
     "output_type": "execute_result"
    }
   ],
   "source": [
    "data.describe()"
   ]
  },
  {
   "cell_type": "code",
   "execution_count": 8,
   "id": "fd0cde78",
   "metadata": {
    "scrolled": true
   },
   "outputs": [
    {
     "data": {
      "text/html": [
       "<div>\n",
       "<style scoped>\n",
       "    .dataframe tbody tr th:only-of-type {\n",
       "        vertical-align: middle;\n",
       "    }\n",
       "\n",
       "    .dataframe tbody tr th {\n",
       "        vertical-align: top;\n",
       "    }\n",
       "\n",
       "    .dataframe thead th {\n",
       "        text-align: right;\n",
       "    }\n",
       "</style>\n",
       "<table border=\"1\" class=\"dataframe\">\n",
       "  <thead>\n",
       "    <tr style=\"text-align: right;\">\n",
       "      <th></th>\n",
       "      <th>url</th>\n",
       "      <th>name</th>\n",
       "      <th>online_order</th>\n",
       "      <th>book_table</th>\n",
       "      <th>rate</th>\n",
       "      <th>votes</th>\n",
       "      <th>location</th>\n",
       "      <th>rest_type</th>\n",
       "      <th>dish_liked</th>\n",
       "      <th>cuisines</th>\n",
       "      <th>approx_cost(for two people)</th>\n",
       "      <th>reviews_list</th>\n",
       "      <th>listed_in(type)</th>\n",
       "      <th>listed_in(city)</th>\n",
       "    </tr>\n",
       "  </thead>\n",
       "  <tbody>\n",
       "    <tr>\n",
       "      <th>6899</th>\n",
       "      <td>https://www.zomato.com/bangalore/dock-frostd-m...</td>\n",
       "      <td>Dock Frost'd</td>\n",
       "      <td>Yes</td>\n",
       "      <td>No</td>\n",
       "      <td>4.6/5</td>\n",
       "      <td>110</td>\n",
       "      <td>Marathahalli</td>\n",
       "      <td>Beverage Shop, Dessert Parlor</td>\n",
       "      <td>Kala Jamun, Fruit Shake, Waffles, Chocolate De...</td>\n",
       "      <td>Beverages, Desserts</td>\n",
       "      <td>400</td>\n",
       "      <td>[('Rated 4.0', 'RATED\\n  We had an ice cream j...</td>\n",
       "      <td>Delivery</td>\n",
       "      <td>Brookefield</td>\n",
       "    </tr>\n",
       "    <tr>\n",
       "      <th>2558</th>\n",
       "      <td>https://www.zomato.com/bangalore/kolkata-kathi...</td>\n",
       "      <td>Kolkata Kathi Rolls</td>\n",
       "      <td>Yes</td>\n",
       "      <td>No</td>\n",
       "      <td>3.8/5</td>\n",
       "      <td>23</td>\n",
       "      <td>JP Nagar</td>\n",
       "      <td>Quick Bites</td>\n",
       "      <td>NaN</td>\n",
       "      <td>Rolls</td>\n",
       "      <td>150</td>\n",
       "      <td>[('Rated 5.0', 'RATED\\n  If someone loves Beng...</td>\n",
       "      <td>Delivery</td>\n",
       "      <td>Basavanagudi</td>\n",
       "    </tr>\n",
       "    <tr>\n",
       "      <th>943</th>\n",
       "      <td>https://www.zomato.com/bangalore/midnight-mani...</td>\n",
       "      <td>Midnight Mania</td>\n",
       "      <td>Yes</td>\n",
       "      <td>No</td>\n",
       "      <td>4.1/5</td>\n",
       "      <td>601</td>\n",
       "      <td>BTM</td>\n",
       "      <td>Quick Bites</td>\n",
       "      <td>Peri Peri Chicken, Chicken Pizza, White Pasta,...</td>\n",
       "      <td>Pizza, Italian, Beverages</td>\n",
       "      <td>700</td>\n",
       "      <td>[('Rated 5.0', 'RATED\\n  Order from zomato . O...</td>\n",
       "      <td>Delivery</td>\n",
       "      <td>Bannerghatta Road</td>\n",
       "    </tr>\n",
       "    <tr>\n",
       "      <th>1494</th>\n",
       "      <td>https://www.zomato.com/bangalore/cafe-arabica-...</td>\n",
       "      <td>Cafe Arabica</td>\n",
       "      <td>No</td>\n",
       "      <td>No</td>\n",
       "      <td>3.8/5</td>\n",
       "      <td>69</td>\n",
       "      <td>Bannerghatta Road</td>\n",
       "      <td>Cafe, Bakery</td>\n",
       "      <td>Coffee, French Fries, Lemon Tea, Veg Sandwich</td>\n",
       "      <td>Cafe, Bakery</td>\n",
       "      <td>700</td>\n",
       "      <td>[('Rated 3.0', 'RATED\\n  Went to have dessert....</td>\n",
       "      <td>Delivery</td>\n",
       "      <td>Bannerghatta Road</td>\n",
       "    </tr>\n",
       "    <tr>\n",
       "      <th>1556</th>\n",
       "      <td>https://www.zomato.com/bangalore/kanchan-dhaba...</td>\n",
       "      <td>Kanchan Dhaba</td>\n",
       "      <td>No</td>\n",
       "      <td>No</td>\n",
       "      <td>3.2/5</td>\n",
       "      <td>4</td>\n",
       "      <td>Bannerghatta Road</td>\n",
       "      <td>Quick Bites</td>\n",
       "      <td>NaN</td>\n",
       "      <td>North Indian, Chinese</td>\n",
       "      <td>350</td>\n",
       "      <td>[('Rated 2.0', 'RATED\\n  ordered chicken do pe...</td>\n",
       "      <td>Delivery</td>\n",
       "      <td>Bannerghatta Road</td>\n",
       "    </tr>\n",
       "  </tbody>\n",
       "</table>\n",
       "</div>"
      ],
      "text/plain": [
       "                                                    url                 name  \\\n",
       "6899  https://www.zomato.com/bangalore/dock-frostd-m...         Dock Frost'd   \n",
       "2558  https://www.zomato.com/bangalore/kolkata-kathi...  Kolkata Kathi Rolls   \n",
       "943   https://www.zomato.com/bangalore/midnight-mani...       Midnight Mania   \n",
       "1494  https://www.zomato.com/bangalore/cafe-arabica-...         Cafe Arabica   \n",
       "1556  https://www.zomato.com/bangalore/kanchan-dhaba...        Kanchan Dhaba   \n",
       "\n",
       "     online_order book_table   rate  votes           location  \\\n",
       "6899          Yes         No  4.6/5    110       Marathahalli   \n",
       "2558          Yes         No  3.8/5     23           JP Nagar   \n",
       "943           Yes         No  4.1/5    601                BTM   \n",
       "1494           No         No  3.8/5     69  Bannerghatta Road   \n",
       "1556           No         No  3.2/5      4  Bannerghatta Road   \n",
       "\n",
       "                          rest_type  \\\n",
       "6899  Beverage Shop, Dessert Parlor   \n",
       "2558                    Quick Bites   \n",
       "943                     Quick Bites   \n",
       "1494                   Cafe, Bakery   \n",
       "1556                    Quick Bites   \n",
       "\n",
       "                                             dish_liked  \\\n",
       "6899  Kala Jamun, Fruit Shake, Waffles, Chocolate De...   \n",
       "2558                                                NaN   \n",
       "943   Peri Peri Chicken, Chicken Pizza, White Pasta,...   \n",
       "1494      Coffee, French Fries, Lemon Tea, Veg Sandwich   \n",
       "1556                                                NaN   \n",
       "\n",
       "                       cuisines approx_cost(for two people)  \\\n",
       "6899        Beverages, Desserts                         400   \n",
       "2558                      Rolls                         150   \n",
       "943   Pizza, Italian, Beverages                         700   \n",
       "1494               Cafe, Bakery                         700   \n",
       "1556      North Indian, Chinese                         350   \n",
       "\n",
       "                                           reviews_list listed_in(type)  \\\n",
       "6899  [('Rated 4.0', 'RATED\\n  We had an ice cream j...        Delivery   \n",
       "2558  [('Rated 5.0', 'RATED\\n  If someone loves Beng...        Delivery   \n",
       "943   [('Rated 5.0', 'RATED\\n  Order from zomato . O...        Delivery   \n",
       "1494  [('Rated 3.0', 'RATED\\n  Went to have dessert....        Delivery   \n",
       "1556  [('Rated 2.0', 'RATED\\n  ordered chicken do pe...        Delivery   \n",
       "\n",
       "        listed_in(city)  \n",
       "6899        Brookefield  \n",
       "2558       Basavanagudi  \n",
       "943   Bannerghatta Road  \n",
       "1494  Bannerghatta Road  \n",
       "1556  Bannerghatta Road  "
      ]
     },
     "execution_count": 8,
     "metadata": {},
     "output_type": "execute_result"
    }
   ],
   "source": [
    "data.sample(5)"
   ]
  },
  {
   "cell_type": "code",
   "execution_count": 9,
   "id": "1770227e",
   "metadata": {},
   "outputs": [
    {
     "data": {
      "text/plain": [
       "0"
      ]
     },
     "execution_count": 9,
     "metadata": {},
     "output_type": "execute_result"
    }
   ],
   "source": [
    "data.duplicated().sum()"
   ]
  },
  {
   "cell_type": "markdown",
   "id": "fcefdc01",
   "metadata": {},
   "source": [
    "## Handling missing values"
   ]
  },
  {
   "cell_type": "code",
   "execution_count": 10,
   "id": "d6086d9e",
   "metadata": {
    "scrolled": false
   },
   "outputs": [
    {
     "data": {
      "text/plain": [
       "url                             0.00\n",
       "name                            0.00\n",
       "online_order                    0.00\n",
       "book_table                      0.00\n",
       "rate                           13.72\n",
       "votes                           0.00\n",
       "location                        0.02\n",
       "rest_type                       0.51\n",
       "dish_liked                     55.50\n",
       "cuisines                        0.10\n",
       "approx_cost(for two people)     0.20\n",
       "reviews_list                    0.00\n",
       "listed_in(type)                 0.00\n",
       "listed_in(city)                 0.00\n",
       "dtype: float64"
      ]
     },
     "execution_count": 10,
     "metadata": {},
     "output_type": "execute_result"
    }
   ],
   "source": [
    "data.isnull().mean()*100"
   ]
  },
  {
   "cell_type": "code",
   "execution_count": 11,
   "id": "efbbd43c",
   "metadata": {},
   "outputs": [],
   "source": [
    "from sklearn.compose import ColumnTransformer\n",
    "from sklearn.impute import SimpleImputer"
   ]
  },
  {
   "cell_type": "code",
   "execution_count": 12,
   "id": "059a43e7",
   "metadata": {},
   "outputs": [],
   "source": [
    "trf = ColumnTransformer(transformers = [\n",
    "    ('imp', SimpleImputer(strategy = 'most_frequent'), ['location', 'rest_type', 'cuisines'])\n",
    "])"
   ]
  },
  {
   "cell_type": "code",
   "execution_count": 13,
   "id": "6280f5a9",
   "metadata": {},
   "outputs": [],
   "source": [
    "transformed_data = trf.fit_transform(data)"
   ]
  },
  {
   "cell_type": "code",
   "execution_count": 14,
   "id": "66af1da2",
   "metadata": {},
   "outputs": [],
   "source": [
    "transformed_df = pd.DataFrame(transformed_data, columns=['updated_location', 'updated_rest_type', 'updated_cuisines'])\n",
    "\n",
    "\n",
    "data = pd.concat([data, transformed_df], axis=1)"
   ]
  },
  {
   "cell_type": "code",
   "execution_count": 15,
   "id": "89009900",
   "metadata": {},
   "outputs": [
    {
     "data": {
      "text/plain": [
       "0"
      ]
     },
     "execution_count": 15,
     "metadata": {},
     "output_type": "execute_result"
    }
   ],
   "source": [
    "data['updated_cuisines'].isna().sum()"
   ]
  },
  {
   "cell_type": "code",
   "execution_count": 16,
   "id": "244e5775",
   "metadata": {
    "scrolled": true
   },
   "outputs": [
    {
     "data": {
      "text/html": [
       "<div>\n",
       "<style scoped>\n",
       "    .dataframe tbody tr th:only-of-type {\n",
       "        vertical-align: middle;\n",
       "    }\n",
       "\n",
       "    .dataframe tbody tr th {\n",
       "        vertical-align: top;\n",
       "    }\n",
       "\n",
       "    .dataframe thead th {\n",
       "        text-align: right;\n",
       "    }\n",
       "</style>\n",
       "<table border=\"1\" class=\"dataframe\">\n",
       "  <thead>\n",
       "    <tr style=\"text-align: right;\">\n",
       "      <th></th>\n",
       "      <th>url</th>\n",
       "      <th>name</th>\n",
       "      <th>online_order</th>\n",
       "      <th>book_table</th>\n",
       "      <th>rate</th>\n",
       "      <th>votes</th>\n",
       "      <th>location</th>\n",
       "      <th>rest_type</th>\n",
       "      <th>dish_liked</th>\n",
       "      <th>cuisines</th>\n",
       "      <th>approx_cost(for two people)</th>\n",
       "      <th>reviews_list</th>\n",
       "      <th>listed_in(type)</th>\n",
       "      <th>listed_in(city)</th>\n",
       "      <th>updated_location</th>\n",
       "      <th>updated_rest_type</th>\n",
       "      <th>updated_cuisines</th>\n",
       "    </tr>\n",
       "  </thead>\n",
       "  <tbody>\n",
       "    <tr>\n",
       "      <th>0</th>\n",
       "      <td>https://www.zomato.com/bangalore/jalsa-banasha...</td>\n",
       "      <td>Jalsa</td>\n",
       "      <td>Yes</td>\n",
       "      <td>Yes</td>\n",
       "      <td>4.1/5</td>\n",
       "      <td>775</td>\n",
       "      <td>Banashankari</td>\n",
       "      <td>Casual Dining</td>\n",
       "      <td>Pasta, Lunch Buffet, Masala Papad, Paneer Laja...</td>\n",
       "      <td>North Indian, Mughlai, Chinese</td>\n",
       "      <td>800</td>\n",
       "      <td>[('Rated 4.0', 'RATED\\n  A beautiful place to ...</td>\n",
       "      <td>Buffet</td>\n",
       "      <td>Banashankari</td>\n",
       "      <td>Banashankari</td>\n",
       "      <td>Casual Dining</td>\n",
       "      <td>North Indian, Mughlai, Chinese</td>\n",
       "    </tr>\n",
       "    <tr>\n",
       "      <th>1</th>\n",
       "      <td>https://www.zomato.com/bangalore/spice-elephan...</td>\n",
       "      <td>Spice Elephant</td>\n",
       "      <td>Yes</td>\n",
       "      <td>No</td>\n",
       "      <td>4.1/5</td>\n",
       "      <td>787</td>\n",
       "      <td>Banashankari</td>\n",
       "      <td>Casual Dining</td>\n",
       "      <td>Momos, Lunch Buffet, Chocolate Nirvana, Thai G...</td>\n",
       "      <td>Chinese, North Indian, Thai</td>\n",
       "      <td>800</td>\n",
       "      <td>[('Rated 4.0', 'RATED\\n  Had been here for din...</td>\n",
       "      <td>Buffet</td>\n",
       "      <td>Banashankari</td>\n",
       "      <td>Banashankari</td>\n",
       "      <td>Casual Dining</td>\n",
       "      <td>Chinese, North Indian, Thai</td>\n",
       "    </tr>\n",
       "    <tr>\n",
       "      <th>2</th>\n",
       "      <td>https://www.zomato.com/SanchurroBangalore?cont...</td>\n",
       "      <td>San Churro Cafe</td>\n",
       "      <td>Yes</td>\n",
       "      <td>No</td>\n",
       "      <td>3.8/5</td>\n",
       "      <td>918</td>\n",
       "      <td>Banashankari</td>\n",
       "      <td>Cafe, Casual Dining</td>\n",
       "      <td>Churros, Cannelloni, Minestrone Soup, Hot Choc...</td>\n",
       "      <td>Cafe, Mexican, Italian</td>\n",
       "      <td>800</td>\n",
       "      <td>[('Rated 3.0', \"RATED\\n  Ambience is not that ...</td>\n",
       "      <td>Buffet</td>\n",
       "      <td>Banashankari</td>\n",
       "      <td>Banashankari</td>\n",
       "      <td>Cafe, Casual Dining</td>\n",
       "      <td>Cafe, Mexican, Italian</td>\n",
       "    </tr>\n",
       "    <tr>\n",
       "      <th>3</th>\n",
       "      <td>https://www.zomato.com/bangalore/addhuri-udupi...</td>\n",
       "      <td>Addhuri Udupi Bhojana</td>\n",
       "      <td>No</td>\n",
       "      <td>No</td>\n",
       "      <td>3.7/5</td>\n",
       "      <td>88</td>\n",
       "      <td>Banashankari</td>\n",
       "      <td>Quick Bites</td>\n",
       "      <td>Masala Dosa</td>\n",
       "      <td>South Indian, North Indian</td>\n",
       "      <td>300</td>\n",
       "      <td>[('Rated 4.0', \"RATED\\n  Great food and proper...</td>\n",
       "      <td>Buffet</td>\n",
       "      <td>Banashankari</td>\n",
       "      <td>Banashankari</td>\n",
       "      <td>Quick Bites</td>\n",
       "      <td>South Indian, North Indian</td>\n",
       "    </tr>\n",
       "    <tr>\n",
       "      <th>4</th>\n",
       "      <td>https://www.zomato.com/bangalore/grand-village...</td>\n",
       "      <td>Grand Village</td>\n",
       "      <td>No</td>\n",
       "      <td>No</td>\n",
       "      <td>3.8/5</td>\n",
       "      <td>166</td>\n",
       "      <td>Basavanagudi</td>\n",
       "      <td>Casual Dining</td>\n",
       "      <td>Panipuri, Gol Gappe</td>\n",
       "      <td>North Indian, Rajasthani</td>\n",
       "      <td>600</td>\n",
       "      <td>[('Rated 4.0', 'RATED\\n  Very good restaurant ...</td>\n",
       "      <td>Buffet</td>\n",
       "      <td>Banashankari</td>\n",
       "      <td>Basavanagudi</td>\n",
       "      <td>Casual Dining</td>\n",
       "      <td>North Indian, Rajasthani</td>\n",
       "    </tr>\n",
       "  </tbody>\n",
       "</table>\n",
       "</div>"
      ],
      "text/plain": [
       "                                                 url                   name  \\\n",
       "0  https://www.zomato.com/bangalore/jalsa-banasha...                  Jalsa   \n",
       "1  https://www.zomato.com/bangalore/spice-elephan...         Spice Elephant   \n",
       "2  https://www.zomato.com/SanchurroBangalore?cont...        San Churro Cafe   \n",
       "3  https://www.zomato.com/bangalore/addhuri-udupi...  Addhuri Udupi Bhojana   \n",
       "4  https://www.zomato.com/bangalore/grand-village...          Grand Village   \n",
       "\n",
       "  online_order book_table   rate  votes      location            rest_type  \\\n",
       "0          Yes        Yes  4.1/5    775  Banashankari        Casual Dining   \n",
       "1          Yes         No  4.1/5    787  Banashankari        Casual Dining   \n",
       "2          Yes         No  3.8/5    918  Banashankari  Cafe, Casual Dining   \n",
       "3           No         No  3.7/5     88  Banashankari          Quick Bites   \n",
       "4           No         No  3.8/5    166  Basavanagudi        Casual Dining   \n",
       "\n",
       "                                          dish_liked  \\\n",
       "0  Pasta, Lunch Buffet, Masala Papad, Paneer Laja...   \n",
       "1  Momos, Lunch Buffet, Chocolate Nirvana, Thai G...   \n",
       "2  Churros, Cannelloni, Minestrone Soup, Hot Choc...   \n",
       "3                                        Masala Dosa   \n",
       "4                                Panipuri, Gol Gappe   \n",
       "\n",
       "                         cuisines approx_cost(for two people)  \\\n",
       "0  North Indian, Mughlai, Chinese                         800   \n",
       "1     Chinese, North Indian, Thai                         800   \n",
       "2          Cafe, Mexican, Italian                         800   \n",
       "3      South Indian, North Indian                         300   \n",
       "4        North Indian, Rajasthani                         600   \n",
       "\n",
       "                                        reviews_list listed_in(type)  \\\n",
       "0  [('Rated 4.0', 'RATED\\n  A beautiful place to ...          Buffet   \n",
       "1  [('Rated 4.0', 'RATED\\n  Had been here for din...          Buffet   \n",
       "2  [('Rated 3.0', \"RATED\\n  Ambience is not that ...          Buffet   \n",
       "3  [('Rated 4.0', \"RATED\\n  Great food and proper...          Buffet   \n",
       "4  [('Rated 4.0', 'RATED\\n  Very good restaurant ...          Buffet   \n",
       "\n",
       "  listed_in(city) updated_location    updated_rest_type  \\\n",
       "0    Banashankari     Banashankari        Casual Dining   \n",
       "1    Banashankari     Banashankari        Casual Dining   \n",
       "2    Banashankari     Banashankari  Cafe, Casual Dining   \n",
       "3    Banashankari     Banashankari          Quick Bites   \n",
       "4    Banashankari     Basavanagudi        Casual Dining   \n",
       "\n",
       "                 updated_cuisines  \n",
       "0  North Indian, Mughlai, Chinese  \n",
       "1     Chinese, North Indian, Thai  \n",
       "2          Cafe, Mexican, Italian  \n",
       "3      South Indian, North Indian  \n",
       "4        North Indian, Rajasthani  "
      ]
     },
     "execution_count": 16,
     "metadata": {},
     "output_type": "execute_result"
    }
   ],
   "source": [
    "data.head()"
   ]
  },
  {
   "cell_type": "code",
   "execution_count": 17,
   "id": "1f5bed69",
   "metadata": {},
   "outputs": [],
   "source": [
    "data['dish_liked'] = np.where(data['dish_liked'].isnull(), data['updated_location'], data['dish_liked'])\n"
   ]
  },
  {
   "cell_type": "code",
   "execution_count": 18,
   "id": "457ba4d9",
   "metadata": {},
   "outputs": [],
   "source": [
    "data.drop(['location', 'rest_type', 'cuisines', 'url'], axis = 1, inplace = True)"
   ]
  },
  {
   "cell_type": "code",
   "execution_count": 19,
   "id": "b3ccd2b4",
   "metadata": {
    "scrolled": true
   },
   "outputs": [
    {
     "data": {
      "text/plain": [
       "name                              0\n",
       "online_order                      0\n",
       "book_table                        0\n",
       "rate                           1372\n",
       "votes                             0\n",
       "dish_liked                        0\n",
       "approx_cost(for two people)      20\n",
       "reviews_list                      0\n",
       "listed_in(type)                   0\n",
       "listed_in(city)                   0\n",
       "updated_location                  0\n",
       "updated_rest_type                 0\n",
       "updated_cuisines                  0\n",
       "dtype: int64"
      ]
     },
     "execution_count": 19,
     "metadata": {},
     "output_type": "execute_result"
    }
   ],
   "source": [
    "data.isnull().sum()"
   ]
  },
  {
   "cell_type": "code",
   "execution_count": 20,
   "id": "dd246944",
   "metadata": {
    "scrolled": true
   },
   "outputs": [
    {
     "data": {
      "text/plain": [
       "updated_rest_type\n",
       "Quick Bites                   3733\n",
       "Casual Dining                 2103\n",
       "Cafe                           705\n",
       "Delivery                       527\n",
       "Dessert Parlor                 460\n",
       "                              ... \n",
       "Bhojanalya                       1\n",
       "Casual Dining, Quick Bites       1\n",
       "Pop Up                           1\n",
       "Sweet Shop, Dessert Parlor       1\n",
       "Casual Dining, Lounge            1\n",
       "Name: count, Length: 80, dtype: int64"
      ]
     },
     "execution_count": 20,
     "metadata": {},
     "output_type": "execute_result"
    }
   ],
   "source": [
    "data['updated_rest_type'].value_counts()"
   ]
  },
  {
   "cell_type": "code",
   "execution_count": 21,
   "id": "a2a96a6e",
   "metadata": {},
   "outputs": [],
   "source": [
    "rows = data.shape[0]"
   ]
  },
  {
   "cell_type": "markdown",
   "id": "03163bb4",
   "metadata": {},
   "source": [
    "## Data Wrangling"
   ]
  },
  {
   "cell_type": "code",
   "execution_count": 22,
   "id": "3bc966af",
   "metadata": {},
   "outputs": [
    {
     "data": {
      "text/html": [
       "<div>\n",
       "<style scoped>\n",
       "    .dataframe tbody tr th:only-of-type {\n",
       "        vertical-align: middle;\n",
       "    }\n",
       "\n",
       "    .dataframe tbody tr th {\n",
       "        vertical-align: top;\n",
       "    }\n",
       "\n",
       "    .dataframe thead th {\n",
       "        text-align: right;\n",
       "    }\n",
       "</style>\n",
       "<table border=\"1\" class=\"dataframe\">\n",
       "  <thead>\n",
       "    <tr style=\"text-align: right;\">\n",
       "      <th></th>\n",
       "      <th>name</th>\n",
       "      <th>online_order</th>\n",
       "      <th>book_table</th>\n",
       "      <th>rate</th>\n",
       "      <th>votes</th>\n",
       "      <th>dish_liked</th>\n",
       "      <th>approx_cost(for two people)</th>\n",
       "      <th>reviews_list</th>\n",
       "      <th>listed_in(type)</th>\n",
       "      <th>listed_in(city)</th>\n",
       "      <th>updated_location</th>\n",
       "      <th>updated_rest_type</th>\n",
       "      <th>updated_cuisines</th>\n",
       "    </tr>\n",
       "  </thead>\n",
       "  <tbody>\n",
       "    <tr>\n",
       "      <th>0</th>\n",
       "      <td>Jalsa</td>\n",
       "      <td>Yes</td>\n",
       "      <td>Yes</td>\n",
       "      <td>4.1/5</td>\n",
       "      <td>775</td>\n",
       "      <td>Pasta, Lunch Buffet, Masala Papad, Paneer Laja...</td>\n",
       "      <td>800</td>\n",
       "      <td>[('Rated 4.0', 'RATED\\n  A beautiful place to ...</td>\n",
       "      <td>Buffet</td>\n",
       "      <td>Banashankari</td>\n",
       "      <td>Banashankari</td>\n",
       "      <td>Casual Dining</td>\n",
       "      <td>North Indian, Mughlai, Chinese</td>\n",
       "    </tr>\n",
       "    <tr>\n",
       "      <th>1</th>\n",
       "      <td>Spice Elephant</td>\n",
       "      <td>Yes</td>\n",
       "      <td>No</td>\n",
       "      <td>4.1/5</td>\n",
       "      <td>787</td>\n",
       "      <td>Momos, Lunch Buffet, Chocolate Nirvana, Thai G...</td>\n",
       "      <td>800</td>\n",
       "      <td>[('Rated 4.0', 'RATED\\n  Had been here for din...</td>\n",
       "      <td>Buffet</td>\n",
       "      <td>Banashankari</td>\n",
       "      <td>Banashankari</td>\n",
       "      <td>Casual Dining</td>\n",
       "      <td>Chinese, North Indian, Thai</td>\n",
       "    </tr>\n",
       "    <tr>\n",
       "      <th>2</th>\n",
       "      <td>San Churro Cafe</td>\n",
       "      <td>Yes</td>\n",
       "      <td>No</td>\n",
       "      <td>3.8/5</td>\n",
       "      <td>918</td>\n",
       "      <td>Churros, Cannelloni, Minestrone Soup, Hot Choc...</td>\n",
       "      <td>800</td>\n",
       "      <td>[('Rated 3.0', \"RATED\\n  Ambience is not that ...</td>\n",
       "      <td>Buffet</td>\n",
       "      <td>Banashankari</td>\n",
       "      <td>Banashankari</td>\n",
       "      <td>Cafe, Casual Dining</td>\n",
       "      <td>Cafe, Mexican, Italian</td>\n",
       "    </tr>\n",
       "    <tr>\n",
       "      <th>3</th>\n",
       "      <td>Addhuri Udupi Bhojana</td>\n",
       "      <td>No</td>\n",
       "      <td>No</td>\n",
       "      <td>3.7/5</td>\n",
       "      <td>88</td>\n",
       "      <td>Masala Dosa</td>\n",
       "      <td>300</td>\n",
       "      <td>[('Rated 4.0', \"RATED\\n  Great food and proper...</td>\n",
       "      <td>Buffet</td>\n",
       "      <td>Banashankari</td>\n",
       "      <td>Banashankari</td>\n",
       "      <td>Quick Bites</td>\n",
       "      <td>South Indian, North Indian</td>\n",
       "    </tr>\n",
       "    <tr>\n",
       "      <th>4</th>\n",
       "      <td>Grand Village</td>\n",
       "      <td>No</td>\n",
       "      <td>No</td>\n",
       "      <td>3.8/5</td>\n",
       "      <td>166</td>\n",
       "      <td>Panipuri, Gol Gappe</td>\n",
       "      <td>600</td>\n",
       "      <td>[('Rated 4.0', 'RATED\\n  Very good restaurant ...</td>\n",
       "      <td>Buffet</td>\n",
       "      <td>Banashankari</td>\n",
       "      <td>Basavanagudi</td>\n",
       "      <td>Casual Dining</td>\n",
       "      <td>North Indian, Rajasthani</td>\n",
       "    </tr>\n",
       "    <tr>\n",
       "      <th>5</th>\n",
       "      <td>Timepass Dinner</td>\n",
       "      <td>Yes</td>\n",
       "      <td>No</td>\n",
       "      <td>3.8/5</td>\n",
       "      <td>286</td>\n",
       "      <td>Onion Rings, Pasta, Kadhai Paneer, Salads, Sal...</td>\n",
       "      <td>600</td>\n",
       "      <td>[('Rated 3.0', 'RATED\\n  Food 3/5\\nAmbience 3/...</td>\n",
       "      <td>Buffet</td>\n",
       "      <td>Banashankari</td>\n",
       "      <td>Basavanagudi</td>\n",
       "      <td>Casual Dining</td>\n",
       "      <td>North Indian</td>\n",
       "    </tr>\n",
       "  </tbody>\n",
       "</table>\n",
       "</div>"
      ],
      "text/plain": [
       "                    name online_order book_table   rate  votes  \\\n",
       "0                  Jalsa          Yes        Yes  4.1/5    775   \n",
       "1         Spice Elephant          Yes         No  4.1/5    787   \n",
       "2        San Churro Cafe          Yes         No  3.8/5    918   \n",
       "3  Addhuri Udupi Bhojana           No         No  3.7/5     88   \n",
       "4          Grand Village           No         No  3.8/5    166   \n",
       "5        Timepass Dinner          Yes         No  3.8/5    286   \n",
       "\n",
       "                                          dish_liked  \\\n",
       "0  Pasta, Lunch Buffet, Masala Papad, Paneer Laja...   \n",
       "1  Momos, Lunch Buffet, Chocolate Nirvana, Thai G...   \n",
       "2  Churros, Cannelloni, Minestrone Soup, Hot Choc...   \n",
       "3                                        Masala Dosa   \n",
       "4                                Panipuri, Gol Gappe   \n",
       "5  Onion Rings, Pasta, Kadhai Paneer, Salads, Sal...   \n",
       "\n",
       "  approx_cost(for two people)  \\\n",
       "0                         800   \n",
       "1                         800   \n",
       "2                         800   \n",
       "3                         300   \n",
       "4                         600   \n",
       "5                         600   \n",
       "\n",
       "                                        reviews_list listed_in(type)  \\\n",
       "0  [('Rated 4.0', 'RATED\\n  A beautiful place to ...          Buffet   \n",
       "1  [('Rated 4.0', 'RATED\\n  Had been here for din...          Buffet   \n",
       "2  [('Rated 3.0', \"RATED\\n  Ambience is not that ...          Buffet   \n",
       "3  [('Rated 4.0', \"RATED\\n  Great food and proper...          Buffet   \n",
       "4  [('Rated 4.0', 'RATED\\n  Very good restaurant ...          Buffet   \n",
       "5  [('Rated 3.0', 'RATED\\n  Food 3/5\\nAmbience 3/...          Buffet   \n",
       "\n",
       "  listed_in(city) updated_location    updated_rest_type  \\\n",
       "0    Banashankari     Banashankari        Casual Dining   \n",
       "1    Banashankari     Banashankari        Casual Dining   \n",
       "2    Banashankari     Banashankari  Cafe, Casual Dining   \n",
       "3    Banashankari     Banashankari          Quick Bites   \n",
       "4    Banashankari     Basavanagudi        Casual Dining   \n",
       "5    Banashankari     Basavanagudi        Casual Dining   \n",
       "\n",
       "                 updated_cuisines  \n",
       "0  North Indian, Mughlai, Chinese  \n",
       "1     Chinese, North Indian, Thai  \n",
       "2          Cafe, Mexican, Italian  \n",
       "3      South Indian, North Indian  \n",
       "4        North Indian, Rajasthani  \n",
       "5                    North Indian  "
      ]
     },
     "execution_count": 22,
     "metadata": {},
     "output_type": "execute_result"
    }
   ],
   "source": [
    "data.head(6)\n"
   ]
  },
  {
   "cell_type": "code",
   "execution_count": 23,
   "id": "8a07e3dc",
   "metadata": {},
   "outputs": [
    {
     "data": {
      "text/plain": [
       "name                              0\n",
       "online_order                      0\n",
       "book_table                        0\n",
       "rate                           1372\n",
       "votes                             0\n",
       "dish_liked                        0\n",
       "approx_cost(for two people)      20\n",
       "reviews_list                      0\n",
       "listed_in(type)                   0\n",
       "listed_in(city)                   0\n",
       "updated_location                  0\n",
       "updated_rest_type                 0\n",
       "updated_cuisines                  0\n",
       "dtype: int64"
      ]
     },
     "execution_count": 23,
     "metadata": {},
     "output_type": "execute_result"
    }
   ],
   "source": [
    "data.isnull().sum()"
   ]
  },
  {
   "cell_type": "code",
   "execution_count": 24,
   "id": "31e58e5f",
   "metadata": {},
   "outputs": [],
   "source": [
    "data['rate'] = np.where(data['rate'].isna() == True, '0/5', data['rate'])  "
   ]
  },
  {
   "cell_type": "code",
   "execution_count": 25,
   "id": "631789cd",
   "metadata": {},
   "outputs": [],
   "source": [
    "data['rate'] = np.where(data['rate'] == 'NEW', '0/5', data['rate'])"
   ]
  },
  {
   "cell_type": "code",
   "execution_count": 26,
   "id": "e9133f9f",
   "metadata": {},
   "outputs": [],
   "source": [
    "data['rate'] = data['rate'].apply(lambda x: x.split('/')[0])"
   ]
  },
  {
   "cell_type": "code",
   "execution_count": 27,
   "id": "04e6d229",
   "metadata": {
    "scrolled": true
   },
   "outputs": [
    {
     "data": {
      "text/html": [
       "<div>\n",
       "<style scoped>\n",
       "    .dataframe tbody tr th:only-of-type {\n",
       "        vertical-align: middle;\n",
       "    }\n",
       "\n",
       "    .dataframe tbody tr th {\n",
       "        vertical-align: top;\n",
       "    }\n",
       "\n",
       "    .dataframe thead th {\n",
       "        text-align: right;\n",
       "    }\n",
       "</style>\n",
       "<table border=\"1\" class=\"dataframe\">\n",
       "  <thead>\n",
       "    <tr style=\"text-align: right;\">\n",
       "      <th></th>\n",
       "      <th>name</th>\n",
       "      <th>online_order</th>\n",
       "      <th>book_table</th>\n",
       "      <th>rate</th>\n",
       "      <th>votes</th>\n",
       "      <th>dish_liked</th>\n",
       "      <th>approx_cost(for two people)</th>\n",
       "      <th>reviews_list</th>\n",
       "      <th>listed_in(type)</th>\n",
       "      <th>listed_in(city)</th>\n",
       "      <th>updated_location</th>\n",
       "      <th>updated_rest_type</th>\n",
       "      <th>updated_cuisines</th>\n",
       "    </tr>\n",
       "  </thead>\n",
       "  <tbody>\n",
       "    <tr>\n",
       "      <th>0</th>\n",
       "      <td>Jalsa</td>\n",
       "      <td>Yes</td>\n",
       "      <td>Yes</td>\n",
       "      <td>4.1</td>\n",
       "      <td>775</td>\n",
       "      <td>Pasta, Lunch Buffet, Masala Papad, Paneer Laja...</td>\n",
       "      <td>800</td>\n",
       "      <td>[('Rated 4.0', 'RATED\\n  A beautiful place to ...</td>\n",
       "      <td>Buffet</td>\n",
       "      <td>Banashankari</td>\n",
       "      <td>Banashankari</td>\n",
       "      <td>Casual Dining</td>\n",
       "      <td>North Indian, Mughlai, Chinese</td>\n",
       "    </tr>\n",
       "    <tr>\n",
       "      <th>1</th>\n",
       "      <td>Spice Elephant</td>\n",
       "      <td>Yes</td>\n",
       "      <td>No</td>\n",
       "      <td>4.1</td>\n",
       "      <td>787</td>\n",
       "      <td>Momos, Lunch Buffet, Chocolate Nirvana, Thai G...</td>\n",
       "      <td>800</td>\n",
       "      <td>[('Rated 4.0', 'RATED\\n  Had been here for din...</td>\n",
       "      <td>Buffet</td>\n",
       "      <td>Banashankari</td>\n",
       "      <td>Banashankari</td>\n",
       "      <td>Casual Dining</td>\n",
       "      <td>Chinese, North Indian, Thai</td>\n",
       "    </tr>\n",
       "    <tr>\n",
       "      <th>2</th>\n",
       "      <td>San Churro Cafe</td>\n",
       "      <td>Yes</td>\n",
       "      <td>No</td>\n",
       "      <td>3.8</td>\n",
       "      <td>918</td>\n",
       "      <td>Churros, Cannelloni, Minestrone Soup, Hot Choc...</td>\n",
       "      <td>800</td>\n",
       "      <td>[('Rated 3.0', \"RATED\\n  Ambience is not that ...</td>\n",
       "      <td>Buffet</td>\n",
       "      <td>Banashankari</td>\n",
       "      <td>Banashankari</td>\n",
       "      <td>Cafe, Casual Dining</td>\n",
       "      <td>Cafe, Mexican, Italian</td>\n",
       "    </tr>\n",
       "    <tr>\n",
       "      <th>3</th>\n",
       "      <td>Addhuri Udupi Bhojana</td>\n",
       "      <td>No</td>\n",
       "      <td>No</td>\n",
       "      <td>3.7</td>\n",
       "      <td>88</td>\n",
       "      <td>Masala Dosa</td>\n",
       "      <td>300</td>\n",
       "      <td>[('Rated 4.0', \"RATED\\n  Great food and proper...</td>\n",
       "      <td>Buffet</td>\n",
       "      <td>Banashankari</td>\n",
       "      <td>Banashankari</td>\n",
       "      <td>Quick Bites</td>\n",
       "      <td>South Indian, North Indian</td>\n",
       "    </tr>\n",
       "    <tr>\n",
       "      <th>4</th>\n",
       "      <td>Grand Village</td>\n",
       "      <td>No</td>\n",
       "      <td>No</td>\n",
       "      <td>3.8</td>\n",
       "      <td>166</td>\n",
       "      <td>Panipuri, Gol Gappe</td>\n",
       "      <td>600</td>\n",
       "      <td>[('Rated 4.0', 'RATED\\n  Very good restaurant ...</td>\n",
       "      <td>Buffet</td>\n",
       "      <td>Banashankari</td>\n",
       "      <td>Basavanagudi</td>\n",
       "      <td>Casual Dining</td>\n",
       "      <td>North Indian, Rajasthani</td>\n",
       "    </tr>\n",
       "    <tr>\n",
       "      <th>5</th>\n",
       "      <td>Timepass Dinner</td>\n",
       "      <td>Yes</td>\n",
       "      <td>No</td>\n",
       "      <td>3.8</td>\n",
       "      <td>286</td>\n",
       "      <td>Onion Rings, Pasta, Kadhai Paneer, Salads, Sal...</td>\n",
       "      <td>600</td>\n",
       "      <td>[('Rated 3.0', 'RATED\\n  Food 3/5\\nAmbience 3/...</td>\n",
       "      <td>Buffet</td>\n",
       "      <td>Banashankari</td>\n",
       "      <td>Basavanagudi</td>\n",
       "      <td>Casual Dining</td>\n",
       "      <td>North Indian</td>\n",
       "    </tr>\n",
       "    <tr>\n",
       "      <th>6</th>\n",
       "      <td>Rosewood International Hotel - Bar &amp; Restaurant</td>\n",
       "      <td>No</td>\n",
       "      <td>No</td>\n",
       "      <td>3.6</td>\n",
       "      <td>8</td>\n",
       "      <td>Mysore Road</td>\n",
       "      <td>800</td>\n",
       "      <td>[('Rated 5.0', 'RATED\\n  Awesome food ??Great ...</td>\n",
       "      <td>Buffet</td>\n",
       "      <td>Banashankari</td>\n",
       "      <td>Mysore Road</td>\n",
       "      <td>Casual Dining</td>\n",
       "      <td>North Indian, South Indian, Andhra, Chinese</td>\n",
       "    </tr>\n",
       "    <tr>\n",
       "      <th>7</th>\n",
       "      <td>Onesta</td>\n",
       "      <td>Yes</td>\n",
       "      <td>Yes</td>\n",
       "      <td>4.6</td>\n",
       "      <td>2556</td>\n",
       "      <td>Farmhouse Pizza, Chocolate Banana, Virgin Moji...</td>\n",
       "      <td>600</td>\n",
       "      <td>[('Rated 5.0', 'RATED\\n  I personally really l...</td>\n",
       "      <td>Cafes</td>\n",
       "      <td>Banashankari</td>\n",
       "      <td>Banashankari</td>\n",
       "      <td>Casual Dining, Cafe</td>\n",
       "      <td>Pizza, Cafe, Italian</td>\n",
       "    </tr>\n",
       "    <tr>\n",
       "      <th>8</th>\n",
       "      <td>Penthouse Cafe</td>\n",
       "      <td>Yes</td>\n",
       "      <td>No</td>\n",
       "      <td>4.0</td>\n",
       "      <td>324</td>\n",
       "      <td>Pizza, Mocktails, Coffee, Nachos, Salad, Pasta...</td>\n",
       "      <td>700</td>\n",
       "      <td>[('Rated 3.0', \"RATED\\n  I had been to this pl...</td>\n",
       "      <td>Cafes</td>\n",
       "      <td>Banashankari</td>\n",
       "      <td>Banashankari</td>\n",
       "      <td>Cafe</td>\n",
       "      <td>Cafe, Italian, Continental</td>\n",
       "    </tr>\n",
       "    <tr>\n",
       "      <th>9</th>\n",
       "      <td>Smacznego</td>\n",
       "      <td>Yes</td>\n",
       "      <td>No</td>\n",
       "      <td>4.2</td>\n",
       "      <td>504</td>\n",
       "      <td>Waffles, Pasta, Coleslaw Sandwich, Choco Waffl...</td>\n",
       "      <td>550</td>\n",
       "      <td>[('Rated 4.0', \"RATED\\n  Easy to locate\\nVFM 3...</td>\n",
       "      <td>Cafes</td>\n",
       "      <td>Banashankari</td>\n",
       "      <td>Banashankari</td>\n",
       "      <td>Cafe</td>\n",
       "      <td>Cafe, Mexican, Italian, Momos, Beverages</td>\n",
       "    </tr>\n",
       "  </tbody>\n",
       "</table>\n",
       "</div>"
      ],
      "text/plain": [
       "                                              name online_order book_table  \\\n",
       "0                                            Jalsa          Yes        Yes   \n",
       "1                                   Spice Elephant          Yes         No   \n",
       "2                                  San Churro Cafe          Yes         No   \n",
       "3                            Addhuri Udupi Bhojana           No         No   \n",
       "4                                    Grand Village           No         No   \n",
       "5                                  Timepass Dinner          Yes         No   \n",
       "6  Rosewood International Hotel - Bar & Restaurant           No         No   \n",
       "7                                           Onesta          Yes        Yes   \n",
       "8                                   Penthouse Cafe          Yes         No   \n",
       "9                                        Smacznego          Yes         No   \n",
       "\n",
       "  rate  votes                                         dish_liked  \\\n",
       "0  4.1    775  Pasta, Lunch Buffet, Masala Papad, Paneer Laja...   \n",
       "1  4.1    787  Momos, Lunch Buffet, Chocolate Nirvana, Thai G...   \n",
       "2  3.8    918  Churros, Cannelloni, Minestrone Soup, Hot Choc...   \n",
       "3  3.7     88                                        Masala Dosa   \n",
       "4  3.8    166                                Panipuri, Gol Gappe   \n",
       "5  3.8    286  Onion Rings, Pasta, Kadhai Paneer, Salads, Sal...   \n",
       "6  3.6      8                                        Mysore Road   \n",
       "7  4.6   2556  Farmhouse Pizza, Chocolate Banana, Virgin Moji...   \n",
       "8  4.0    324  Pizza, Mocktails, Coffee, Nachos, Salad, Pasta...   \n",
       "9  4.2    504  Waffles, Pasta, Coleslaw Sandwich, Choco Waffl...   \n",
       "\n",
       "  approx_cost(for two people)  \\\n",
       "0                         800   \n",
       "1                         800   \n",
       "2                         800   \n",
       "3                         300   \n",
       "4                         600   \n",
       "5                         600   \n",
       "6                         800   \n",
       "7                         600   \n",
       "8                         700   \n",
       "9                         550   \n",
       "\n",
       "                                        reviews_list listed_in(type)  \\\n",
       "0  [('Rated 4.0', 'RATED\\n  A beautiful place to ...          Buffet   \n",
       "1  [('Rated 4.0', 'RATED\\n  Had been here for din...          Buffet   \n",
       "2  [('Rated 3.0', \"RATED\\n  Ambience is not that ...          Buffet   \n",
       "3  [('Rated 4.0', \"RATED\\n  Great food and proper...          Buffet   \n",
       "4  [('Rated 4.0', 'RATED\\n  Very good restaurant ...          Buffet   \n",
       "5  [('Rated 3.0', 'RATED\\n  Food 3/5\\nAmbience 3/...          Buffet   \n",
       "6  [('Rated 5.0', 'RATED\\n  Awesome food ??Great ...          Buffet   \n",
       "7  [('Rated 5.0', 'RATED\\n  I personally really l...           Cafes   \n",
       "8  [('Rated 3.0', \"RATED\\n  I had been to this pl...           Cafes   \n",
       "9  [('Rated 4.0', \"RATED\\n  Easy to locate\\nVFM 3...           Cafes   \n",
       "\n",
       "  listed_in(city) updated_location    updated_rest_type  \\\n",
       "0    Banashankari     Banashankari        Casual Dining   \n",
       "1    Banashankari     Banashankari        Casual Dining   \n",
       "2    Banashankari     Banashankari  Cafe, Casual Dining   \n",
       "3    Banashankari     Banashankari          Quick Bites   \n",
       "4    Banashankari     Basavanagudi        Casual Dining   \n",
       "5    Banashankari     Basavanagudi        Casual Dining   \n",
       "6    Banashankari      Mysore Road        Casual Dining   \n",
       "7    Banashankari     Banashankari  Casual Dining, Cafe   \n",
       "8    Banashankari     Banashankari                 Cafe   \n",
       "9    Banashankari     Banashankari                 Cafe   \n",
       "\n",
       "                              updated_cuisines  \n",
       "0               North Indian, Mughlai, Chinese  \n",
       "1                  Chinese, North Indian, Thai  \n",
       "2                       Cafe, Mexican, Italian  \n",
       "3                   South Indian, North Indian  \n",
       "4                     North Indian, Rajasthani  \n",
       "5                                 North Indian  \n",
       "6  North Indian, South Indian, Andhra, Chinese  \n",
       "7                         Pizza, Cafe, Italian  \n",
       "8                   Cafe, Italian, Continental  \n",
       "9     Cafe, Mexican, Italian, Momos, Beverages  "
      ]
     },
     "execution_count": 27,
     "metadata": {},
     "output_type": "execute_result"
    }
   ],
   "source": [
    "data.head(10)"
   ]
  },
  {
   "cell_type": "code",
   "execution_count": 28,
   "id": "9f58e269",
   "metadata": {},
   "outputs": [],
   "source": [
    "stripoff = '\\\"[(\\'\\\"\\\"'"
   ]
  },
  {
   "cell_type": "code",
   "execution_count": 29,
   "id": "9dc9de9c",
   "metadata": {},
   "outputs": [
    {
     "data": {
      "text/plain": [
       "1"
      ]
     },
     "execution_count": 29,
     "metadata": {},
     "output_type": "execute_result"
    }
   ],
   "source": [
    "one_rest = data['reviews_list'][5]\n",
    "len(one_rest.split('),'))"
   ]
  },
  {
   "cell_type": "code",
   "execution_count": 30,
   "id": "4a5796f5",
   "metadata": {},
   "outputs": [
    {
     "data": {
      "text/plain": [
       "\"Rated 3.0', 'RATED\\\\n  Food 3/5\\\\nAmbience 3/5\\\\nService 3/5\\\\n\\\\nHad been here for family lunch. This place serves buffets too. We ordered soups, babycorn starters, butter naan, kadai panner, veg kohlapuri, pease pulav. Food was good. But the service is too slow. They will make you wait for 20 mins to get the order. This place is apt for family hangout.\\\\n\\\\nCheers.')]\""
      ]
     },
     "execution_count": 30,
     "metadata": {},
     "output_type": "execute_result"
    }
   ],
   "source": [
    "one_review = one_rest.split('),')[0].strip(stripoff)\n",
    "one_review"
   ]
  },
  {
   "cell_type": "code",
   "execution_count": 31,
   "id": "821fa37f",
   "metadata": {},
   "outputs": [],
   "source": [
    "one_rating = one_review.split(',')[0][-4]"
   ]
  },
  {
   "cell_type": "code",
   "execution_count": 32,
   "id": "7321fe50",
   "metadata": {},
   "outputs": [],
   "source": [
    "one_description = one_review.split(',')[1][9:]"
   ]
  },
  {
   "cell_type": "code",
   "execution_count": 33,
   "id": "a3db17c2",
   "metadata": {
    "scrolled": true
   },
   "outputs": [
    {
     "data": {
      "text/plain": [
       "'3'"
      ]
     },
     "execution_count": 33,
     "metadata": {},
     "output_type": "execute_result"
    }
   ],
   "source": [
    "one_rating"
   ]
  },
  {
   "cell_type": "code",
   "execution_count": 34,
   "id": "f08a41f4",
   "metadata": {},
   "outputs": [
    {
     "data": {
      "text/plain": [
       "'  Food 3/5\\\\nAmbience 3/5\\\\nService 3/5\\\\n\\\\nHad been here for family lunch. This place serves buffets too. We ordered soups'"
      ]
     },
     "execution_count": 34,
     "metadata": {},
     "output_type": "execute_result"
    }
   ],
   "source": [
    "one_description"
   ]
  },
  {
   "cell_type": "code",
   "execution_count": 35,
   "id": "fa855510",
   "metadata": {
    "scrolled": false
   },
   "outputs": [
    {
     "data": {
      "text/html": [
       "<div>\n",
       "<style scoped>\n",
       "    .dataframe tbody tr th:only-of-type {\n",
       "        vertical-align: middle;\n",
       "    }\n",
       "\n",
       "    .dataframe tbody tr th {\n",
       "        vertical-align: top;\n",
       "    }\n",
       "\n",
       "    .dataframe thead th {\n",
       "        text-align: right;\n",
       "    }\n",
       "</style>\n",
       "<table border=\"1\" class=\"dataframe\">\n",
       "  <thead>\n",
       "    <tr style=\"text-align: right;\">\n",
       "      <th></th>\n",
       "      <th>name</th>\n",
       "      <th>online_order</th>\n",
       "      <th>book_table</th>\n",
       "      <th>rate</th>\n",
       "      <th>votes</th>\n",
       "      <th>dish_liked</th>\n",
       "      <th>approx_cost(for two people)</th>\n",
       "      <th>reviews_list</th>\n",
       "      <th>listed_in(type)</th>\n",
       "      <th>listed_in(city)</th>\n",
       "      <th>updated_location</th>\n",
       "      <th>updated_rest_type</th>\n",
       "      <th>updated_cuisines</th>\n",
       "    </tr>\n",
       "  </thead>\n",
       "  <tbody>\n",
       "    <tr>\n",
       "      <th>0</th>\n",
       "      <td>Jalsa</td>\n",
       "      <td>Yes</td>\n",
       "      <td>Yes</td>\n",
       "      <td>4.1</td>\n",
       "      <td>775</td>\n",
       "      <td>Pasta, Lunch Buffet, Masala Papad, Paneer Laja...</td>\n",
       "      <td>800</td>\n",
       "      <td>[('Rated 4.0', 'RATED\\n  A beautiful place to ...</td>\n",
       "      <td>Buffet</td>\n",
       "      <td>Banashankari</td>\n",
       "      <td>Banashankari</td>\n",
       "      <td>Casual Dining</td>\n",
       "      <td>North Indian, Mughlai, Chinese</td>\n",
       "    </tr>\n",
       "    <tr>\n",
       "      <th>1</th>\n",
       "      <td>Spice Elephant</td>\n",
       "      <td>Yes</td>\n",
       "      <td>No</td>\n",
       "      <td>4.1</td>\n",
       "      <td>787</td>\n",
       "      <td>Momos, Lunch Buffet, Chocolate Nirvana, Thai G...</td>\n",
       "      <td>800</td>\n",
       "      <td>[('Rated 4.0', 'RATED\\n  Had been here for din...</td>\n",
       "      <td>Buffet</td>\n",
       "      <td>Banashankari</td>\n",
       "      <td>Banashankari</td>\n",
       "      <td>Casual Dining</td>\n",
       "      <td>Chinese, North Indian, Thai</td>\n",
       "    </tr>\n",
       "    <tr>\n",
       "      <th>2</th>\n",
       "      <td>San Churro Cafe</td>\n",
       "      <td>Yes</td>\n",
       "      <td>No</td>\n",
       "      <td>3.8</td>\n",
       "      <td>918</td>\n",
       "      <td>Churros, Cannelloni, Minestrone Soup, Hot Choc...</td>\n",
       "      <td>800</td>\n",
       "      <td>[('Rated 3.0', \"RATED\\n  Ambience is not that ...</td>\n",
       "      <td>Buffet</td>\n",
       "      <td>Banashankari</td>\n",
       "      <td>Banashankari</td>\n",
       "      <td>Cafe, Casual Dining</td>\n",
       "      <td>Cafe, Mexican, Italian</td>\n",
       "    </tr>\n",
       "    <tr>\n",
       "      <th>3</th>\n",
       "      <td>Addhuri Udupi Bhojana</td>\n",
       "      <td>No</td>\n",
       "      <td>No</td>\n",
       "      <td>3.7</td>\n",
       "      <td>88</td>\n",
       "      <td>Masala Dosa</td>\n",
       "      <td>300</td>\n",
       "      <td>[('Rated 4.0', \"RATED\\n  Great food and proper...</td>\n",
       "      <td>Buffet</td>\n",
       "      <td>Banashankari</td>\n",
       "      <td>Banashankari</td>\n",
       "      <td>Quick Bites</td>\n",
       "      <td>South Indian, North Indian</td>\n",
       "    </tr>\n",
       "    <tr>\n",
       "      <th>4</th>\n",
       "      <td>Grand Village</td>\n",
       "      <td>No</td>\n",
       "      <td>No</td>\n",
       "      <td>3.8</td>\n",
       "      <td>166</td>\n",
       "      <td>Panipuri, Gol Gappe</td>\n",
       "      <td>600</td>\n",
       "      <td>[('Rated 4.0', 'RATED\\n  Very good restaurant ...</td>\n",
       "      <td>Buffet</td>\n",
       "      <td>Banashankari</td>\n",
       "      <td>Basavanagudi</td>\n",
       "      <td>Casual Dining</td>\n",
       "      <td>North Indian, Rajasthani</td>\n",
       "    </tr>\n",
       "    <tr>\n",
       "      <th>5</th>\n",
       "      <td>Timepass Dinner</td>\n",
       "      <td>Yes</td>\n",
       "      <td>No</td>\n",
       "      <td>3.8</td>\n",
       "      <td>286</td>\n",
       "      <td>Onion Rings, Pasta, Kadhai Paneer, Salads, Sal...</td>\n",
       "      <td>600</td>\n",
       "      <td>[('Rated 3.0', 'RATED\\n  Food 3/5\\nAmbience 3/...</td>\n",
       "      <td>Buffet</td>\n",
       "      <td>Banashankari</td>\n",
       "      <td>Basavanagudi</td>\n",
       "      <td>Casual Dining</td>\n",
       "      <td>North Indian</td>\n",
       "    </tr>\n",
       "  </tbody>\n",
       "</table>\n",
       "</div>"
      ],
      "text/plain": [
       "                    name online_order book_table rate  votes  \\\n",
       "0                  Jalsa          Yes        Yes  4.1    775   \n",
       "1         Spice Elephant          Yes         No  4.1    787   \n",
       "2        San Churro Cafe          Yes         No  3.8    918   \n",
       "3  Addhuri Udupi Bhojana           No         No  3.7     88   \n",
       "4          Grand Village           No         No  3.8    166   \n",
       "5        Timepass Dinner          Yes         No  3.8    286   \n",
       "\n",
       "                                          dish_liked  \\\n",
       "0  Pasta, Lunch Buffet, Masala Papad, Paneer Laja...   \n",
       "1  Momos, Lunch Buffet, Chocolate Nirvana, Thai G...   \n",
       "2  Churros, Cannelloni, Minestrone Soup, Hot Choc...   \n",
       "3                                        Masala Dosa   \n",
       "4                                Panipuri, Gol Gappe   \n",
       "5  Onion Rings, Pasta, Kadhai Paneer, Salads, Sal...   \n",
       "\n",
       "  approx_cost(for two people)  \\\n",
       "0                         800   \n",
       "1                         800   \n",
       "2                         800   \n",
       "3                         300   \n",
       "4                         600   \n",
       "5                         600   \n",
       "\n",
       "                                        reviews_list listed_in(type)  \\\n",
       "0  [('Rated 4.0', 'RATED\\n  A beautiful place to ...          Buffet   \n",
       "1  [('Rated 4.0', 'RATED\\n  Had been here for din...          Buffet   \n",
       "2  [('Rated 3.0', \"RATED\\n  Ambience is not that ...          Buffet   \n",
       "3  [('Rated 4.0', \"RATED\\n  Great food and proper...          Buffet   \n",
       "4  [('Rated 4.0', 'RATED\\n  Very good restaurant ...          Buffet   \n",
       "5  [('Rated 3.0', 'RATED\\n  Food 3/5\\nAmbience 3/...          Buffet   \n",
       "\n",
       "  listed_in(city) updated_location    updated_rest_type  \\\n",
       "0    Banashankari     Banashankari        Casual Dining   \n",
       "1    Banashankari     Banashankari        Casual Dining   \n",
       "2    Banashankari     Banashankari  Cafe, Casual Dining   \n",
       "3    Banashankari     Banashankari          Quick Bites   \n",
       "4    Banashankari     Basavanagudi        Casual Dining   \n",
       "5    Banashankari     Basavanagudi        Casual Dining   \n",
       "\n",
       "                 updated_cuisines  \n",
       "0  North Indian, Mughlai, Chinese  \n",
       "1     Chinese, North Indian, Thai  \n",
       "2          Cafe, Mexican, Italian  \n",
       "3      South Indian, North Indian  \n",
       "4        North Indian, Rajasthani  \n",
       "5                    North Indian  "
      ]
     },
     "execution_count": 35,
     "metadata": {},
     "output_type": "execute_result"
    }
   ],
   "source": [
    "data.head(6)"
   ]
  },
  {
   "cell_type": "code",
   "execution_count": 36,
   "id": "7f10ad02",
   "metadata": {},
   "outputs": [
    {
     "data": {
      "text/plain": [
       "'Onion Rings, Pasta, Kadhai Paneer, Salads, Salad, Roti, Jeera Rice'"
      ]
     },
     "execution_count": 36,
     "metadata": {},
     "output_type": "execute_result"
    }
   ],
   "source": [
    "data['dish_liked'][5]"
   ]
  },
  {
   "cell_type": "code",
   "execution_count": 37,
   "id": "d8c96f1a",
   "metadata": {
    "scrolled": true
   },
   "outputs": [],
   "source": [
    "def convert_fn(i):\n",
    "        one_rest = i\n",
    "        total_reviews = len(one_rest.split('), ('))\n",
    "        if total_reviews>2:\n",
    "            for j in range(1):\n",
    "                try:\n",
    "                    one_review = one_rest.split('), (')[j].strip(stripoff)\n",
    "                    one_rating = one_review.split('\\',')[0].split()[1]\n",
    "                    one_description = one_review.split('\\',')[1].split('RATED\\\\n')[1].split('.')\n",
    "                    return (one_description)\n",
    "                except IndexError:\n",
    "                    print()\n",
    "      \n",
    "            "
   ]
  },
  {
   "cell_type": "code",
   "execution_count": 38,
   "id": "c4026142",
   "metadata": {
    "scrolled": true
   },
   "outputs": [
    {
     "name": "stdout",
     "output_type": "stream",
     "text": [
      "\n",
      "\n",
      "\n",
      "\n",
      "\n",
      "\n"
     ]
    }
   ],
   "source": [
    "data['reviews_list'] = data['reviews_list'].apply(convert_fn)"
   ]
  },
  {
   "cell_type": "code",
   "execution_count": 39,
   "id": "461dcf0a",
   "metadata": {
    "scrolled": true
   },
   "outputs": [
    {
     "data": {
      "text/html": [
       "<div>\n",
       "<style scoped>\n",
       "    .dataframe tbody tr th:only-of-type {\n",
       "        vertical-align: middle;\n",
       "    }\n",
       "\n",
       "    .dataframe tbody tr th {\n",
       "        vertical-align: top;\n",
       "    }\n",
       "\n",
       "    .dataframe thead th {\n",
       "        text-align: right;\n",
       "    }\n",
       "</style>\n",
       "<table border=\"1\" class=\"dataframe\">\n",
       "  <thead>\n",
       "    <tr style=\"text-align: right;\">\n",
       "      <th></th>\n",
       "      <th>name</th>\n",
       "      <th>online_order</th>\n",
       "      <th>book_table</th>\n",
       "      <th>rate</th>\n",
       "      <th>votes</th>\n",
       "      <th>dish_liked</th>\n",
       "      <th>approx_cost(for two people)</th>\n",
       "      <th>reviews_list</th>\n",
       "      <th>listed_in(type)</th>\n",
       "      <th>listed_in(city)</th>\n",
       "      <th>updated_location</th>\n",
       "      <th>updated_rest_type</th>\n",
       "      <th>updated_cuisines</th>\n",
       "    </tr>\n",
       "  </thead>\n",
       "  <tbody>\n",
       "    <tr>\n",
       "      <th>0</th>\n",
       "      <td>Jalsa</td>\n",
       "      <td>Yes</td>\n",
       "      <td>Yes</td>\n",
       "      <td>4.1</td>\n",
       "      <td>775</td>\n",
       "      <td>Pasta, Lunch Buffet, Masala Papad, Paneer Laja...</td>\n",
       "      <td>800</td>\n",
       "      <td>[  A beautiful place to dine in, The interiors...</td>\n",
       "      <td>Buffet</td>\n",
       "      <td>Banashankari</td>\n",
       "      <td>Banashankari</td>\n",
       "      <td>Casual Dining</td>\n",
       "      <td>North Indian, Mughlai, Chinese</td>\n",
       "    </tr>\n",
       "    <tr>\n",
       "      <th>1</th>\n",
       "      <td>Spice Elephant</td>\n",
       "      <td>Yes</td>\n",
       "      <td>No</td>\n",
       "      <td>4.1</td>\n",
       "      <td>787</td>\n",
       "      <td>Momos, Lunch Buffet, Chocolate Nirvana, Thai G...</td>\n",
       "      <td>800</td>\n",
       "      <td>[  Had been here for dinner with family,  Turn...</td>\n",
       "      <td>Buffet</td>\n",
       "      <td>Banashankari</td>\n",
       "      <td>Banashankari</td>\n",
       "      <td>Casual Dining</td>\n",
       "      <td>Chinese, North Indian, Thai</td>\n",
       "    </tr>\n",
       "    <tr>\n",
       "      <th>2</th>\n",
       "      <td>San Churro Cafe</td>\n",
       "      <td>Yes</td>\n",
       "      <td>No</td>\n",
       "      <td>3.8</td>\n",
       "      <td>918</td>\n",
       "      <td>Churros, Cannelloni, Minestrone Soup, Hot Choc...</td>\n",
       "      <td>800</td>\n",
       "      <td>[  Ambience is not that good enough and it's n...</td>\n",
       "      <td>Buffet</td>\n",
       "      <td>Banashankari</td>\n",
       "      <td>Banashankari</td>\n",
       "      <td>Cafe, Casual Dining</td>\n",
       "      <td>Cafe, Mexican, Italian</td>\n",
       "    </tr>\n",
       "    <tr>\n",
       "      <th>3</th>\n",
       "      <td>Addhuri Udupi Bhojana</td>\n",
       "      <td>No</td>\n",
       "      <td>No</td>\n",
       "      <td>3.7</td>\n",
       "      <td>88</td>\n",
       "      <td>Masala Dosa</td>\n",
       "      <td>300</td>\n",
       "      <td>[  Great food and proper Karnataka style full ...</td>\n",
       "      <td>Buffet</td>\n",
       "      <td>Banashankari</td>\n",
       "      <td>Banashankari</td>\n",
       "      <td>Quick Bites</td>\n",
       "      <td>South Indian, North Indian</td>\n",
       "    </tr>\n",
       "    <tr>\n",
       "      <th>4</th>\n",
       "      <td>Grand Village</td>\n",
       "      <td>No</td>\n",
       "      <td>No</td>\n",
       "      <td>3.8</td>\n",
       "      <td>166</td>\n",
       "      <td>Panipuri, Gol Gappe</td>\n",
       "      <td>600</td>\n",
       "      <td>None</td>\n",
       "      <td>Buffet</td>\n",
       "      <td>Banashankari</td>\n",
       "      <td>Basavanagudi</td>\n",
       "      <td>Casual Dining</td>\n",
       "      <td>North Indian, Rajasthani</td>\n",
       "    </tr>\n",
       "    <tr>\n",
       "      <th>5</th>\n",
       "      <td>Timepass Dinner</td>\n",
       "      <td>Yes</td>\n",
       "      <td>No</td>\n",
       "      <td>3.8</td>\n",
       "      <td>286</td>\n",
       "      <td>Onion Rings, Pasta, Kadhai Paneer, Salads, Sal...</td>\n",
       "      <td>600</td>\n",
       "      <td>None</td>\n",
       "      <td>Buffet</td>\n",
       "      <td>Banashankari</td>\n",
       "      <td>Basavanagudi</td>\n",
       "      <td>Casual Dining</td>\n",
       "      <td>North Indian</td>\n",
       "    </tr>\n",
       "  </tbody>\n",
       "</table>\n",
       "</div>"
      ],
      "text/plain": [
       "                    name online_order book_table rate  votes  \\\n",
       "0                  Jalsa          Yes        Yes  4.1    775   \n",
       "1         Spice Elephant          Yes         No  4.1    787   \n",
       "2        San Churro Cafe          Yes         No  3.8    918   \n",
       "3  Addhuri Udupi Bhojana           No         No  3.7     88   \n",
       "4          Grand Village           No         No  3.8    166   \n",
       "5        Timepass Dinner          Yes         No  3.8    286   \n",
       "\n",
       "                                          dish_liked  \\\n",
       "0  Pasta, Lunch Buffet, Masala Papad, Paneer Laja...   \n",
       "1  Momos, Lunch Buffet, Chocolate Nirvana, Thai G...   \n",
       "2  Churros, Cannelloni, Minestrone Soup, Hot Choc...   \n",
       "3                                        Masala Dosa   \n",
       "4                                Panipuri, Gol Gappe   \n",
       "5  Onion Rings, Pasta, Kadhai Paneer, Salads, Sal...   \n",
       "\n",
       "  approx_cost(for two people)  \\\n",
       "0                         800   \n",
       "1                         800   \n",
       "2                         800   \n",
       "3                         300   \n",
       "4                         600   \n",
       "5                         600   \n",
       "\n",
       "                                        reviews_list listed_in(type)  \\\n",
       "0  [  A beautiful place to dine in, The interiors...          Buffet   \n",
       "1  [  Had been here for dinner with family,  Turn...          Buffet   \n",
       "2  [  Ambience is not that good enough and it's n...          Buffet   \n",
       "3  [  Great food and proper Karnataka style full ...          Buffet   \n",
       "4                                               None          Buffet   \n",
       "5                                               None          Buffet   \n",
       "\n",
       "  listed_in(city) updated_location    updated_rest_type  \\\n",
       "0    Banashankari     Banashankari        Casual Dining   \n",
       "1    Banashankari     Banashankari        Casual Dining   \n",
       "2    Banashankari     Banashankari  Cafe, Casual Dining   \n",
       "3    Banashankari     Banashankari          Quick Bites   \n",
       "4    Banashankari     Basavanagudi        Casual Dining   \n",
       "5    Banashankari     Basavanagudi        Casual Dining   \n",
       "\n",
       "                 updated_cuisines  \n",
       "0  North Indian, Mughlai, Chinese  \n",
       "1     Chinese, North Indian, Thai  \n",
       "2          Cafe, Mexican, Italian  \n",
       "3      South Indian, North Indian  \n",
       "4        North Indian, Rajasthani  \n",
       "5                    North Indian  "
      ]
     },
     "execution_count": 39,
     "metadata": {},
     "output_type": "execute_result"
    }
   ],
   "source": [
    "data.head(6)"
   ]
  },
  {
   "cell_type": "code",
   "execution_count": 40,
   "id": "308c7378",
   "metadata": {
    "scrolled": true
   },
   "outputs": [
    {
     "data": {
      "text/plain": [
       "name                              0\n",
       "online_order                      0\n",
       "book_table                        0\n",
       "rate                              0\n",
       "votes                             0\n",
       "dish_liked                        0\n",
       "approx_cost(for two people)      20\n",
       "reviews_list                   4299\n",
       "listed_in(type)                   0\n",
       "listed_in(city)                   0\n",
       "updated_location                  0\n",
       "updated_rest_type                 0\n",
       "updated_cuisines                  0\n",
       "dtype: int64"
      ]
     },
     "execution_count": 40,
     "metadata": {},
     "output_type": "execute_result"
    }
   ],
   "source": [
    "data.isnull().sum()"
   ]
  },
  {
   "cell_type": "code",
   "execution_count": 41,
   "id": "6ebb8405",
   "metadata": {
    "scrolled": false
   },
   "outputs": [
    {
     "data": {
      "text/plain": [
       "updated_location\n",
       "Bannerghatta Road     886\n",
       "BTM                   864\n",
       "Banashankari          765\n",
       "JP Nagar              749\n",
       "Jayanagar             658\n",
       "                     ... \n",
       "Kammanahalli            1\n",
       "Seshadripuram           1\n",
       "Malleshwaram            1\n",
       "Jeevan Bhima Nagar      1\n",
       "Rajajinagar             1\n",
       "Name: count, Length: 72, dtype: int64"
      ]
     },
     "execution_count": 41,
     "metadata": {},
     "output_type": "execute_result"
    }
   ],
   "source": [
    "data['updated_location'].value_counts()"
   ]
  },
  {
   "cell_type": "code",
   "execution_count": 42,
   "id": "140bf26a",
   "metadata": {},
   "outputs": [],
   "source": [
    "data['dish_liked'] = data['dish_liked'].apply(lambda x: x.replace(\" \", \"\"))\n",
    "data['dish_liked'] = data['dish_liked'].str.split(',')"
   ]
  },
  {
   "cell_type": "code",
   "execution_count": 43,
   "id": "fbff75cc",
   "metadata": {},
   "outputs": [],
   "source": [
    "data['listed_in(type)'] = data['listed_in(type)'].apply(lambda x: x.replace(\" \", \"\"))\n",
    "data['listed_in(type)'] = data['listed_in(type)'].str.split(',')"
   ]
  },
  {
   "cell_type": "code",
   "execution_count": 44,
   "id": "0f30beb4",
   "metadata": {},
   "outputs": [],
   "source": [
    "data['listed_in(city)'] = data['listed_in(city)'].apply(lambda x: x.replace(\" \", \"\"))\n",
    "data['listed_in(city)'] = data['listed_in(city)'].str.split(',')"
   ]
  },
  {
   "cell_type": "code",
   "execution_count": 45,
   "id": "24741883",
   "metadata": {},
   "outputs": [],
   "source": [
    "data['updated_location'] = data['updated_location'].apply(lambda x: x.replace(\" \", \"\"))\n",
    "data['updated_location'] = data['updated_location'].str.split(',')"
   ]
  },
  {
   "cell_type": "code",
   "execution_count": 46,
   "id": "9b3cc534",
   "metadata": {},
   "outputs": [],
   "source": [
    "data['updated_rest_type'] = data['updated_rest_type'].apply(lambda x: x.replace(\" \", \"\"))\n",
    "data['updated_rest_type'] = data['updated_rest_type'].str.split(',')"
   ]
  },
  {
   "cell_type": "code",
   "execution_count": 47,
   "id": "08113aba",
   "metadata": {
    "scrolled": true
   },
   "outputs": [],
   "source": [
    "data['updated_cuisines'] = data['updated_cuisines'].apply(lambda x: x.replace(\" \", \"\"))\n",
    "data['updated_cuisines'] = data['updated_cuisines'].str.split(',')"
   ]
  },
  {
   "cell_type": "code",
   "execution_count": 48,
   "id": "fd6d6c30",
   "metadata": {},
   "outputs": [
    {
     "data": {
      "text/html": [
       "<div>\n",
       "<style scoped>\n",
       "    .dataframe tbody tr th:only-of-type {\n",
       "        vertical-align: middle;\n",
       "    }\n",
       "\n",
       "    .dataframe tbody tr th {\n",
       "        vertical-align: top;\n",
       "    }\n",
       "\n",
       "    .dataframe thead th {\n",
       "        text-align: right;\n",
       "    }\n",
       "</style>\n",
       "<table border=\"1\" class=\"dataframe\">\n",
       "  <thead>\n",
       "    <tr style=\"text-align: right;\">\n",
       "      <th></th>\n",
       "      <th>name</th>\n",
       "      <th>online_order</th>\n",
       "      <th>book_table</th>\n",
       "      <th>rate</th>\n",
       "      <th>votes</th>\n",
       "      <th>dish_liked</th>\n",
       "      <th>approx_cost(for two people)</th>\n",
       "      <th>reviews_list</th>\n",
       "      <th>listed_in(type)</th>\n",
       "      <th>listed_in(city)</th>\n",
       "      <th>updated_location</th>\n",
       "      <th>updated_rest_type</th>\n",
       "      <th>updated_cuisines</th>\n",
       "    </tr>\n",
       "  </thead>\n",
       "  <tbody>\n",
       "    <tr>\n",
       "      <th>0</th>\n",
       "      <td>Jalsa</td>\n",
       "      <td>Yes</td>\n",
       "      <td>Yes</td>\n",
       "      <td>4.1</td>\n",
       "      <td>775</td>\n",
       "      <td>[Pasta, LunchBuffet, MasalaPapad, PaneerLajawa...</td>\n",
       "      <td>800</td>\n",
       "      <td>[  A beautiful place to dine in, The interiors...</td>\n",
       "      <td>[Buffet]</td>\n",
       "      <td>[Banashankari]</td>\n",
       "      <td>[Banashankari]</td>\n",
       "      <td>[CasualDining]</td>\n",
       "      <td>[NorthIndian, Mughlai, Chinese]</td>\n",
       "    </tr>\n",
       "    <tr>\n",
       "      <th>1</th>\n",
       "      <td>Spice Elephant</td>\n",
       "      <td>Yes</td>\n",
       "      <td>No</td>\n",
       "      <td>4.1</td>\n",
       "      <td>787</td>\n",
       "      <td>[Momos, LunchBuffet, ChocolateNirvana, ThaiGre...</td>\n",
       "      <td>800</td>\n",
       "      <td>[  Had been here for dinner with family,  Turn...</td>\n",
       "      <td>[Buffet]</td>\n",
       "      <td>[Banashankari]</td>\n",
       "      <td>[Banashankari]</td>\n",
       "      <td>[CasualDining]</td>\n",
       "      <td>[Chinese, NorthIndian, Thai]</td>\n",
       "    </tr>\n",
       "    <tr>\n",
       "      <th>2</th>\n",
       "      <td>San Churro Cafe</td>\n",
       "      <td>Yes</td>\n",
       "      <td>No</td>\n",
       "      <td>3.8</td>\n",
       "      <td>918</td>\n",
       "      <td>[Churros, Cannelloni, MinestroneSoup, HotChoco...</td>\n",
       "      <td>800</td>\n",
       "      <td>[  Ambience is not that good enough and it's n...</td>\n",
       "      <td>[Buffet]</td>\n",
       "      <td>[Banashankari]</td>\n",
       "      <td>[Banashankari]</td>\n",
       "      <td>[Cafe, CasualDining]</td>\n",
       "      <td>[Cafe, Mexican, Italian]</td>\n",
       "    </tr>\n",
       "    <tr>\n",
       "      <th>3</th>\n",
       "      <td>Addhuri Udupi Bhojana</td>\n",
       "      <td>No</td>\n",
       "      <td>No</td>\n",
       "      <td>3.7</td>\n",
       "      <td>88</td>\n",
       "      <td>[MasalaDosa]</td>\n",
       "      <td>300</td>\n",
       "      <td>[  Great food and proper Karnataka style full ...</td>\n",
       "      <td>[Buffet]</td>\n",
       "      <td>[Banashankari]</td>\n",
       "      <td>[Banashankari]</td>\n",
       "      <td>[QuickBites]</td>\n",
       "      <td>[SouthIndian, NorthIndian]</td>\n",
       "    </tr>\n",
       "    <tr>\n",
       "      <th>4</th>\n",
       "      <td>Grand Village</td>\n",
       "      <td>No</td>\n",
       "      <td>No</td>\n",
       "      <td>3.8</td>\n",
       "      <td>166</td>\n",
       "      <td>[Panipuri, GolGappe]</td>\n",
       "      <td>600</td>\n",
       "      <td>None</td>\n",
       "      <td>[Buffet]</td>\n",
       "      <td>[Banashankari]</td>\n",
       "      <td>[Basavanagudi]</td>\n",
       "      <td>[CasualDining]</td>\n",
       "      <td>[NorthIndian, Rajasthani]</td>\n",
       "    </tr>\n",
       "    <tr>\n",
       "      <th>5</th>\n",
       "      <td>Timepass Dinner</td>\n",
       "      <td>Yes</td>\n",
       "      <td>No</td>\n",
       "      <td>3.8</td>\n",
       "      <td>286</td>\n",
       "      <td>[OnionRings, Pasta, KadhaiPaneer, Salads, Sala...</td>\n",
       "      <td>600</td>\n",
       "      <td>None</td>\n",
       "      <td>[Buffet]</td>\n",
       "      <td>[Banashankari]</td>\n",
       "      <td>[Basavanagudi]</td>\n",
       "      <td>[CasualDining]</td>\n",
       "      <td>[NorthIndian]</td>\n",
       "    </tr>\n",
       "  </tbody>\n",
       "</table>\n",
       "</div>"
      ],
      "text/plain": [
       "                    name online_order book_table rate  votes  \\\n",
       "0                  Jalsa          Yes        Yes  4.1    775   \n",
       "1         Spice Elephant          Yes         No  4.1    787   \n",
       "2        San Churro Cafe          Yes         No  3.8    918   \n",
       "3  Addhuri Udupi Bhojana           No         No  3.7     88   \n",
       "4          Grand Village           No         No  3.8    166   \n",
       "5        Timepass Dinner          Yes         No  3.8    286   \n",
       "\n",
       "                                          dish_liked  \\\n",
       "0  [Pasta, LunchBuffet, MasalaPapad, PaneerLajawa...   \n",
       "1  [Momos, LunchBuffet, ChocolateNirvana, ThaiGre...   \n",
       "2  [Churros, Cannelloni, MinestroneSoup, HotChoco...   \n",
       "3                                       [MasalaDosa]   \n",
       "4                               [Panipuri, GolGappe]   \n",
       "5  [OnionRings, Pasta, KadhaiPaneer, Salads, Sala...   \n",
       "\n",
       "  approx_cost(for two people)  \\\n",
       "0                         800   \n",
       "1                         800   \n",
       "2                         800   \n",
       "3                         300   \n",
       "4                         600   \n",
       "5                         600   \n",
       "\n",
       "                                        reviews_list listed_in(type)  \\\n",
       "0  [  A beautiful place to dine in, The interiors...        [Buffet]   \n",
       "1  [  Had been here for dinner with family,  Turn...        [Buffet]   \n",
       "2  [  Ambience is not that good enough and it's n...        [Buffet]   \n",
       "3  [  Great food and proper Karnataka style full ...        [Buffet]   \n",
       "4                                               None        [Buffet]   \n",
       "5                                               None        [Buffet]   \n",
       "\n",
       "  listed_in(city) updated_location     updated_rest_type  \\\n",
       "0  [Banashankari]   [Banashankari]        [CasualDining]   \n",
       "1  [Banashankari]   [Banashankari]        [CasualDining]   \n",
       "2  [Banashankari]   [Banashankari]  [Cafe, CasualDining]   \n",
       "3  [Banashankari]   [Banashankari]          [QuickBites]   \n",
       "4  [Banashankari]   [Basavanagudi]        [CasualDining]   \n",
       "5  [Banashankari]   [Basavanagudi]        [CasualDining]   \n",
       "\n",
       "                  updated_cuisines  \n",
       "0  [NorthIndian, Mughlai, Chinese]  \n",
       "1     [Chinese, NorthIndian, Thai]  \n",
       "2         [Cafe, Mexican, Italian]  \n",
       "3       [SouthIndian, NorthIndian]  \n",
       "4        [NorthIndian, Rajasthani]  \n",
       "5                    [NorthIndian]  "
      ]
     },
     "execution_count": 48,
     "metadata": {},
     "output_type": "execute_result"
    }
   ],
   "source": [
    "data.head(6)"
   ]
  },
  {
   "cell_type": "code",
   "execution_count": 49,
   "id": "86605f30",
   "metadata": {},
   "outputs": [
    {
     "data": {
      "text/plain": [
       "name                              0\n",
       "online_order                      0\n",
       "book_table                        0\n",
       "rate                              0\n",
       "votes                             0\n",
       "dish_liked                        0\n",
       "approx_cost(for two people)      20\n",
       "reviews_list                   4299\n",
       "listed_in(type)                   0\n",
       "listed_in(city)                   0\n",
       "updated_location                  0\n",
       "updated_rest_type                 0\n",
       "updated_cuisines                  0\n",
       "dtype: int64"
      ]
     },
     "execution_count": 49,
     "metadata": {},
     "output_type": "execute_result"
    }
   ],
   "source": [
    "data.isnull().sum()"
   ]
  },
  {
   "cell_type": "code",
   "execution_count": 50,
   "id": "efd5e787",
   "metadata": {},
   "outputs": [
    {
     "data": {
      "text/plain": [
       "0       [Pasta, LunchBuffet, MasalaPapad, PaneerLajawa...\n",
       "1       [Momos, LunchBuffet, ChocolateNirvana, ThaiGre...\n",
       "2       [Churros, Cannelloni, MinestroneSoup, HotChoco...\n",
       "3                                            [MasalaDosa]\n",
       "4                                    [Panipuri, GolGappe]\n",
       "                              ...                        \n",
       "9995                                        [Rajajinagar]\n",
       "9996                                   [BannerghattaRoad]\n",
       "9997         [Coffee, FrenchFries, LemonTea, VegSandwich]\n",
       "9998                                [Koramangala1stBlock]\n",
       "9999                                [Koramangala5thBlock]\n",
       "Name: dish_liked, Length: 10000, dtype: object"
      ]
     },
     "execution_count": 50,
     "metadata": {},
     "output_type": "execute_result"
    }
   ],
   "source": [
    "data['dish_liked']"
   ]
  },
  {
   "cell_type": "code",
   "execution_count": 51,
   "id": "eaad5e23",
   "metadata": {},
   "outputs": [
    {
     "data": {
      "text/html": [
       "<div>\n",
       "<style scoped>\n",
       "    .dataframe tbody tr th:only-of-type {\n",
       "        vertical-align: middle;\n",
       "    }\n",
       "\n",
       "    .dataframe tbody tr th {\n",
       "        vertical-align: top;\n",
       "    }\n",
       "\n",
       "    .dataframe thead th {\n",
       "        text-align: right;\n",
       "    }\n",
       "</style>\n",
       "<table border=\"1\" class=\"dataframe\">\n",
       "  <thead>\n",
       "    <tr style=\"text-align: right;\">\n",
       "      <th></th>\n",
       "      <th>name</th>\n",
       "      <th>online_order</th>\n",
       "      <th>book_table</th>\n",
       "      <th>rate</th>\n",
       "      <th>votes</th>\n",
       "      <th>dish_liked</th>\n",
       "      <th>approx_cost(for two people)</th>\n",
       "      <th>reviews_list</th>\n",
       "      <th>listed_in(type)</th>\n",
       "      <th>listed_in(city)</th>\n",
       "      <th>updated_location</th>\n",
       "      <th>updated_rest_type</th>\n",
       "      <th>updated_cuisines</th>\n",
       "    </tr>\n",
       "  </thead>\n",
       "  <tbody>\n",
       "    <tr>\n",
       "      <th>0</th>\n",
       "      <td>Jalsa</td>\n",
       "      <td>Yes</td>\n",
       "      <td>Yes</td>\n",
       "      <td>4.1</td>\n",
       "      <td>775</td>\n",
       "      <td>[Pasta, LunchBuffet, MasalaPapad, PaneerLajawa...</td>\n",
       "      <td>800</td>\n",
       "      <td>[  A beautiful place to dine in, The interiors...</td>\n",
       "      <td>[Buffet]</td>\n",
       "      <td>[Banashankari]</td>\n",
       "      <td>[Banashankari]</td>\n",
       "      <td>[CasualDining]</td>\n",
       "      <td>[NorthIndian, Mughlai, Chinese]</td>\n",
       "    </tr>\n",
       "    <tr>\n",
       "      <th>1</th>\n",
       "      <td>Spice Elephant</td>\n",
       "      <td>Yes</td>\n",
       "      <td>No</td>\n",
       "      <td>4.1</td>\n",
       "      <td>787</td>\n",
       "      <td>[Momos, LunchBuffet, ChocolateNirvana, ThaiGre...</td>\n",
       "      <td>800</td>\n",
       "      <td>[  Had been here for dinner with family,  Turn...</td>\n",
       "      <td>[Buffet]</td>\n",
       "      <td>[Banashankari]</td>\n",
       "      <td>[Banashankari]</td>\n",
       "      <td>[CasualDining]</td>\n",
       "      <td>[Chinese, NorthIndian, Thai]</td>\n",
       "    </tr>\n",
       "    <tr>\n",
       "      <th>2</th>\n",
       "      <td>San Churro Cafe</td>\n",
       "      <td>Yes</td>\n",
       "      <td>No</td>\n",
       "      <td>3.8</td>\n",
       "      <td>918</td>\n",
       "      <td>[Churros, Cannelloni, MinestroneSoup, HotChoco...</td>\n",
       "      <td>800</td>\n",
       "      <td>[  Ambience is not that good enough and it's n...</td>\n",
       "      <td>[Buffet]</td>\n",
       "      <td>[Banashankari]</td>\n",
       "      <td>[Banashankari]</td>\n",
       "      <td>[Cafe, CasualDining]</td>\n",
       "      <td>[Cafe, Mexican, Italian]</td>\n",
       "    </tr>\n",
       "    <tr>\n",
       "      <th>3</th>\n",
       "      <td>Addhuri Udupi Bhojana</td>\n",
       "      <td>No</td>\n",
       "      <td>No</td>\n",
       "      <td>3.7</td>\n",
       "      <td>88</td>\n",
       "      <td>[MasalaDosa]</td>\n",
       "      <td>300</td>\n",
       "      <td>[  Great food and proper Karnataka style full ...</td>\n",
       "      <td>[Buffet]</td>\n",
       "      <td>[Banashankari]</td>\n",
       "      <td>[Banashankari]</td>\n",
       "      <td>[QuickBites]</td>\n",
       "      <td>[SouthIndian, NorthIndian]</td>\n",
       "    </tr>\n",
       "    <tr>\n",
       "      <th>4</th>\n",
       "      <td>Grand Village</td>\n",
       "      <td>No</td>\n",
       "      <td>No</td>\n",
       "      <td>3.8</td>\n",
       "      <td>166</td>\n",
       "      <td>[Panipuri, GolGappe]</td>\n",
       "      <td>600</td>\n",
       "      <td>None</td>\n",
       "      <td>[Buffet]</td>\n",
       "      <td>[Banashankari]</td>\n",
       "      <td>[Basavanagudi]</td>\n",
       "      <td>[CasualDining]</td>\n",
       "      <td>[NorthIndian, Rajasthani]</td>\n",
       "    </tr>\n",
       "    <tr>\n",
       "      <th>5</th>\n",
       "      <td>Timepass Dinner</td>\n",
       "      <td>Yes</td>\n",
       "      <td>No</td>\n",
       "      <td>3.8</td>\n",
       "      <td>286</td>\n",
       "      <td>[OnionRings, Pasta, KadhaiPaneer, Salads, Sala...</td>\n",
       "      <td>600</td>\n",
       "      <td>None</td>\n",
       "      <td>[Buffet]</td>\n",
       "      <td>[Banashankari]</td>\n",
       "      <td>[Basavanagudi]</td>\n",
       "      <td>[CasualDining]</td>\n",
       "      <td>[NorthIndian]</td>\n",
       "    </tr>\n",
       "    <tr>\n",
       "      <th>6</th>\n",
       "      <td>Rosewood International Hotel - Bar &amp; Restaurant</td>\n",
       "      <td>No</td>\n",
       "      <td>No</td>\n",
       "      <td>3.6</td>\n",
       "      <td>8</td>\n",
       "      <td>[MysoreRoad]</td>\n",
       "      <td>800</td>\n",
       "      <td>None</td>\n",
       "      <td>[Buffet]</td>\n",
       "      <td>[Banashankari]</td>\n",
       "      <td>[MysoreRoad]</td>\n",
       "      <td>[CasualDining]</td>\n",
       "      <td>[NorthIndian, SouthIndian, Andhra, Chinese]</td>\n",
       "    </tr>\n",
       "  </tbody>\n",
       "</table>\n",
       "</div>"
      ],
      "text/plain": [
       "                                              name online_order book_table  \\\n",
       "0                                            Jalsa          Yes        Yes   \n",
       "1                                   Spice Elephant          Yes         No   \n",
       "2                                  San Churro Cafe          Yes         No   \n",
       "3                            Addhuri Udupi Bhojana           No         No   \n",
       "4                                    Grand Village           No         No   \n",
       "5                                  Timepass Dinner          Yes         No   \n",
       "6  Rosewood International Hotel - Bar & Restaurant           No         No   \n",
       "\n",
       "  rate  votes                                         dish_liked  \\\n",
       "0  4.1    775  [Pasta, LunchBuffet, MasalaPapad, PaneerLajawa...   \n",
       "1  4.1    787  [Momos, LunchBuffet, ChocolateNirvana, ThaiGre...   \n",
       "2  3.8    918  [Churros, Cannelloni, MinestroneSoup, HotChoco...   \n",
       "3  3.7     88                                       [MasalaDosa]   \n",
       "4  3.8    166                               [Panipuri, GolGappe]   \n",
       "5  3.8    286  [OnionRings, Pasta, KadhaiPaneer, Salads, Sala...   \n",
       "6  3.6      8                                       [MysoreRoad]   \n",
       "\n",
       "  approx_cost(for two people)  \\\n",
       "0                         800   \n",
       "1                         800   \n",
       "2                         800   \n",
       "3                         300   \n",
       "4                         600   \n",
       "5                         600   \n",
       "6                         800   \n",
       "\n",
       "                                        reviews_list listed_in(type)  \\\n",
       "0  [  A beautiful place to dine in, The interiors...        [Buffet]   \n",
       "1  [  Had been here for dinner with family,  Turn...        [Buffet]   \n",
       "2  [  Ambience is not that good enough and it's n...        [Buffet]   \n",
       "3  [  Great food and proper Karnataka style full ...        [Buffet]   \n",
       "4                                               None        [Buffet]   \n",
       "5                                               None        [Buffet]   \n",
       "6                                               None        [Buffet]   \n",
       "\n",
       "  listed_in(city) updated_location     updated_rest_type  \\\n",
       "0  [Banashankari]   [Banashankari]        [CasualDining]   \n",
       "1  [Banashankari]   [Banashankari]        [CasualDining]   \n",
       "2  [Banashankari]   [Banashankari]  [Cafe, CasualDining]   \n",
       "3  [Banashankari]   [Banashankari]          [QuickBites]   \n",
       "4  [Banashankari]   [Basavanagudi]        [CasualDining]   \n",
       "5  [Banashankari]   [Basavanagudi]        [CasualDining]   \n",
       "6  [Banashankari]     [MysoreRoad]        [CasualDining]   \n",
       "\n",
       "                              updated_cuisines  \n",
       "0              [NorthIndian, Mughlai, Chinese]  \n",
       "1                 [Chinese, NorthIndian, Thai]  \n",
       "2                     [Cafe, Mexican, Italian]  \n",
       "3                   [SouthIndian, NorthIndian]  \n",
       "4                    [NorthIndian, Rajasthani]  \n",
       "5                                [NorthIndian]  \n",
       "6  [NorthIndian, SouthIndian, Andhra, Chinese]  "
      ]
     },
     "execution_count": 51,
     "metadata": {},
     "output_type": "execute_result"
    }
   ],
   "source": [
    "data.head(7)"
   ]
  },
  {
   "cell_type": "code",
   "execution_count": 52,
   "id": "8e898b58",
   "metadata": {},
   "outputs": [],
   "source": [
    "s1 = data['listed_in(type)'] + data['listed_in(city)'] + data['updated_location'] + data['updated_rest_type'] + data['updated_cuisines']\n",
    "s2 = data['dish_liked'] + data['reviews_list'] + data['listed_in(type)'] + data['listed_in(city)'] + data['updated_location'] + data['updated_rest_type'] + data['updated_cuisines']\n",
    "\n",
    "data['tags'] = np.where(data['reviews_list'].isnull(), s1, s2)\n",
    "\n"
   ]
  },
  {
   "cell_type": "code",
   "execution_count": 53,
   "id": "9fe5a9e2",
   "metadata": {},
   "outputs": [],
   "source": [
    "new_df = data.drop(['reviews_list' ,'listed_in(type)', 'listed_in(city)', 'updated_location', 'updated_rest_type', 'updated_cuisines'], axis = 1)"
   ]
  },
  {
   "cell_type": "markdown",
   "id": "0d9ff9e1",
   "metadata": {},
   "source": [
    "### Tag Formation"
   ]
  },
  {
   "cell_type": "code",
   "execution_count": 54,
   "id": "021dbd24",
   "metadata": {
    "scrolled": true
   },
   "outputs": [
    {
     "data": {
      "text/html": [
       "<div>\n",
       "<style scoped>\n",
       "    .dataframe tbody tr th:only-of-type {\n",
       "        vertical-align: middle;\n",
       "    }\n",
       "\n",
       "    .dataframe tbody tr th {\n",
       "        vertical-align: top;\n",
       "    }\n",
       "\n",
       "    .dataframe thead th {\n",
       "        text-align: right;\n",
       "    }\n",
       "</style>\n",
       "<table border=\"1\" class=\"dataframe\">\n",
       "  <thead>\n",
       "    <tr style=\"text-align: right;\">\n",
       "      <th></th>\n",
       "      <th>name</th>\n",
       "      <th>online_order</th>\n",
       "      <th>book_table</th>\n",
       "      <th>rate</th>\n",
       "      <th>votes</th>\n",
       "      <th>dish_liked</th>\n",
       "      <th>approx_cost(for two people)</th>\n",
       "      <th>tags</th>\n",
       "    </tr>\n",
       "  </thead>\n",
       "  <tbody>\n",
       "    <tr>\n",
       "      <th>0</th>\n",
       "      <td>Jalsa</td>\n",
       "      <td>Yes</td>\n",
       "      <td>Yes</td>\n",
       "      <td>4.1</td>\n",
       "      <td>775</td>\n",
       "      <td>[Pasta, LunchBuffet, MasalaPapad, PaneerLajawa...</td>\n",
       "      <td>800</td>\n",
       "      <td>[Pasta, LunchBuffet, MasalaPapad, PaneerLajawa...</td>\n",
       "    </tr>\n",
       "    <tr>\n",
       "      <th>1</th>\n",
       "      <td>Spice Elephant</td>\n",
       "      <td>Yes</td>\n",
       "      <td>No</td>\n",
       "      <td>4.1</td>\n",
       "      <td>787</td>\n",
       "      <td>[Momos, LunchBuffet, ChocolateNirvana, ThaiGre...</td>\n",
       "      <td>800</td>\n",
       "      <td>[Momos, LunchBuffet, ChocolateNirvana, ThaiGre...</td>\n",
       "    </tr>\n",
       "    <tr>\n",
       "      <th>2</th>\n",
       "      <td>San Churro Cafe</td>\n",
       "      <td>Yes</td>\n",
       "      <td>No</td>\n",
       "      <td>3.8</td>\n",
       "      <td>918</td>\n",
       "      <td>[Churros, Cannelloni, MinestroneSoup, HotChoco...</td>\n",
       "      <td>800</td>\n",
       "      <td>[Churros, Cannelloni, MinestroneSoup, HotChoco...</td>\n",
       "    </tr>\n",
       "    <tr>\n",
       "      <th>3</th>\n",
       "      <td>Addhuri Udupi Bhojana</td>\n",
       "      <td>No</td>\n",
       "      <td>No</td>\n",
       "      <td>3.7</td>\n",
       "      <td>88</td>\n",
       "      <td>[MasalaDosa]</td>\n",
       "      <td>300</td>\n",
       "      <td>[MasalaDosa,   Great food and proper Karnataka...</td>\n",
       "    </tr>\n",
       "    <tr>\n",
       "      <th>4</th>\n",
       "      <td>Grand Village</td>\n",
       "      <td>No</td>\n",
       "      <td>No</td>\n",
       "      <td>3.8</td>\n",
       "      <td>166</td>\n",
       "      <td>[Panipuri, GolGappe]</td>\n",
       "      <td>600</td>\n",
       "      <td>[Buffet, Banashankari, Basavanagudi, CasualDin...</td>\n",
       "    </tr>\n",
       "  </tbody>\n",
       "</table>\n",
       "</div>"
      ],
      "text/plain": [
       "                    name online_order book_table rate  votes  \\\n",
       "0                  Jalsa          Yes        Yes  4.1    775   \n",
       "1         Spice Elephant          Yes         No  4.1    787   \n",
       "2        San Churro Cafe          Yes         No  3.8    918   \n",
       "3  Addhuri Udupi Bhojana           No         No  3.7     88   \n",
       "4          Grand Village           No         No  3.8    166   \n",
       "\n",
       "                                          dish_liked  \\\n",
       "0  [Pasta, LunchBuffet, MasalaPapad, PaneerLajawa...   \n",
       "1  [Momos, LunchBuffet, ChocolateNirvana, ThaiGre...   \n",
       "2  [Churros, Cannelloni, MinestroneSoup, HotChoco...   \n",
       "3                                       [MasalaDosa]   \n",
       "4                               [Panipuri, GolGappe]   \n",
       "\n",
       "  approx_cost(for two people)  \\\n",
       "0                         800   \n",
       "1                         800   \n",
       "2                         800   \n",
       "3                         300   \n",
       "4                         600   \n",
       "\n",
       "                                                tags  \n",
       "0  [Pasta, LunchBuffet, MasalaPapad, PaneerLajawa...  \n",
       "1  [Momos, LunchBuffet, ChocolateNirvana, ThaiGre...  \n",
       "2  [Churros, Cannelloni, MinestroneSoup, HotChoco...  \n",
       "3  [MasalaDosa,   Great food and proper Karnataka...  \n",
       "4  [Buffet, Banashankari, Basavanagudi, CasualDin...  "
      ]
     },
     "execution_count": 54,
     "metadata": {},
     "output_type": "execute_result"
    }
   ],
   "source": [
    "new_df.head()"
   ]
  },
  {
   "cell_type": "code",
   "execution_count": 55,
   "id": "cfeec7ee",
   "metadata": {},
   "outputs": [],
   "source": [
    "new_df['tags'] = new_df['tags'].apply(lambda x:\" \".join(x))"
   ]
  },
  {
   "cell_type": "code",
   "execution_count": 56,
   "id": "e7e4ad38",
   "metadata": {
    "scrolled": true
   },
   "outputs": [
    {
     "data": {
      "text/plain": [
       "0       Pasta LunchBuffet MasalaPapad PaneerLajawab To...\n",
       "1       Momos LunchBuffet ChocolateNirvana ThaiGreenCu...\n",
       "2       Churros Cannelloni MinestroneSoup HotChocolate...\n",
       "3       MasalaDosa   Great food and proper Karnataka s...\n",
       "4       Buffet Banashankari Basavanagudi CasualDining ...\n",
       "                              ...                        \n",
       "9995    Delivery BTM Rajajinagar QuickBites NorthIndia...\n",
       "9996    Delivery BTM BannerghattaRoad QuickBites Chine...\n",
       "9997    Delivery BTM BannerghattaRoad Cafe Bakery Cafe...\n",
       "9998    Delivery BTM Koramangala1stBlock QuickBites No...\n",
       "9999    Delivery BTM Koramangala5thBlock Mess Andhra B...\n",
       "Name: tags, Length: 10000, dtype: object"
      ]
     },
     "execution_count": 56,
     "metadata": {},
     "output_type": "execute_result"
    }
   ],
   "source": [
    "new_df['tags']"
   ]
  },
  {
   "cell_type": "markdown",
   "id": "530b8c1d",
   "metadata": {},
   "source": [
    "## Stemming words"
   ]
  },
  {
   "cell_type": "code",
   "execution_count": 57,
   "id": "61e6d8a2",
   "metadata": {},
   "outputs": [],
   "source": [
    "from nltk.stem.porter import PorterStemmer\n",
    "ps = PorterStemmer()"
   ]
  },
  {
   "cell_type": "code",
   "execution_count": 58,
   "id": "3bb9de5e",
   "metadata": {},
   "outputs": [],
   "source": [
    "def stem_fn(text):\n",
    "  y = []\n",
    "\n",
    "  for i in text.split():\n",
    "    y.append(ps.stem(i))\n",
    "  return \" \".join(y)"
   ]
  },
  {
   "cell_type": "code",
   "execution_count": 59,
   "id": "acf84adc",
   "metadata": {},
   "outputs": [],
   "source": [
    "new_df['tags'] = new_df['tags'].apply(stem_fn)"
   ]
  },
  {
   "cell_type": "code",
   "execution_count": 60,
   "id": "d1e8a80b",
   "metadata": {},
   "outputs": [
    {
     "data": {
      "text/plain": [
       "'momo lunchbuffet chocolatenirvana thaigreencurri paneertikka dumbiryani chickenbiryani had been here for dinner with famili turn out to be a good choos suitabl for all age of peopl can tri thi place we like the most wa their starter servic is good price are afford will recommend thi restaur for earli dinner the place is littl noisi buffet banashankari banashankari casualdin chines northindian thai'"
      ]
     },
     "execution_count": 60,
     "metadata": {},
     "output_type": "execute_result"
    }
   ],
   "source": [
    "new_df['tags'][1]\n"
   ]
  },
  {
   "cell_type": "code",
   "execution_count": 61,
   "id": "7d8c465c",
   "metadata": {
    "scrolled": true
   },
   "outputs": [
    {
     "data": {
      "text/plain": [
       "\"mocktail coffe salad barbecuechickenw pizza meatbal hotchocol food-3 0\\\\nambience-4 0\\\\nservice-2 0\\\\nwell let' start with the posit i had order the grill chicken burger, veg nacho and raspberri ice tea \\\\nburger wa alright well cook not too dri patti with tomato and lettuc and chees overal a decent burger noth to complain about the salsa which came with the nacho wa ketchup with onion in it and i wouldn't have complain if i dint get salsa raspberri ice tea did not have hint of raspberri \\\\nthe servic wa especi bad \\\\nfirstli i wa deni regular water say they do not offer regular water and that i had to purchas over price miner water upon insist over and over they gave me regular water my raspberri ice tea had an ant in it even though i want to order more there wa no one want to take the order even though they pass by the onli nice thing about thi experi is the place it self deliveri btm koramangala5thblock cafe cafe continent beverag\""
      ]
     },
     "execution_count": 61,
     "metadata": {},
     "output_type": "execute_result"
    }
   ],
   "source": [
    "new_df['tags'][8888]"
   ]
  },
  {
   "cell_type": "markdown",
   "id": "907ff0f4",
   "metadata": {},
   "source": [
    "## Text Vecorization"
   ]
  },
  {
   "cell_type": "markdown",
   "id": "2b8748a4",
   "metadata": {},
   "source": [
    " Removed stop words like and, or before applying vectorization"
   ]
  },
  {
   "cell_type": "code",
   "execution_count": 62,
   "id": "b3fb3904",
   "metadata": {},
   "outputs": [],
   "source": [
    "from sklearn.feature_extraction.text import CountVectorizer\n",
    "cv = CountVectorizer(max_features = 5000, stop_words = 'english')"
   ]
  },
  {
   "cell_type": "code",
   "execution_count": 63,
   "id": "dc6f731e",
   "metadata": {},
   "outputs": [
    {
     "data": {
      "text/plain": [
       "array([[0, 0, 0, ..., 0, 0, 0],\n",
       "       [0, 0, 0, ..., 0, 0, 0],\n",
       "       [0, 0, 0, ..., 0, 0, 0],\n",
       "       ...,\n",
       "       [0, 0, 0, ..., 0, 0, 0],\n",
       "       [0, 0, 0, ..., 0, 0, 0],\n",
       "       [0, 0, 0, ..., 0, 0, 0]], dtype=int64)"
      ]
     },
     "execution_count": 63,
     "metadata": {},
     "output_type": "execute_result"
    }
   ],
   "source": [
    "vectors = cv.fit_transform(new_df['tags']).toarray()\n",
    "vectors"
   ]
  },
  {
   "cell_type": "code",
   "execution_count": 64,
   "id": "f55e69e4",
   "metadata": {},
   "outputs": [],
   "source": [
    "import nltk"
   ]
  },
  {
   "cell_type": "code",
   "execution_count": 65,
   "id": "cc6420c3",
   "metadata": {},
   "outputs": [
    {
     "data": {
      "text/plain": [
       "'danc'"
      ]
     },
     "execution_count": 65,
     "metadata": {},
     "output_type": "execute_result"
    }
   ],
   "source": [
    "ps.stem('dance')"
   ]
  },
  {
   "cell_type": "code",
   "execution_count": 66,
   "id": "7ce8a0c6",
   "metadata": {},
   "outputs": [
    {
     "data": {
      "text/html": [
       "<div>\n",
       "<style scoped>\n",
       "    .dataframe tbody tr th:only-of-type {\n",
       "        vertical-align: middle;\n",
       "    }\n",
       "\n",
       "    .dataframe tbody tr th {\n",
       "        vertical-align: top;\n",
       "    }\n",
       "\n",
       "    .dataframe thead th {\n",
       "        text-align: right;\n",
       "    }\n",
       "</style>\n",
       "<table border=\"1\" class=\"dataframe\">\n",
       "  <thead>\n",
       "    <tr style=\"text-align: right;\">\n",
       "      <th></th>\n",
       "      <th>name</th>\n",
       "      <th>online_order</th>\n",
       "      <th>book_table</th>\n",
       "      <th>rate</th>\n",
       "      <th>votes</th>\n",
       "      <th>dish_liked</th>\n",
       "      <th>approx_cost(for two people)</th>\n",
       "      <th>tags</th>\n",
       "    </tr>\n",
       "  </thead>\n",
       "  <tbody>\n",
       "    <tr>\n",
       "      <th>0</th>\n",
       "      <td>Jalsa</td>\n",
       "      <td>Yes</td>\n",
       "      <td>Yes</td>\n",
       "      <td>4.1</td>\n",
       "      <td>775</td>\n",
       "      <td>[Pasta, LunchBuffet, MasalaPapad, PaneerLajawa...</td>\n",
       "      <td>800</td>\n",
       "      <td>pasta lunchbuffet masalapapad paneerlajawab to...</td>\n",
       "    </tr>\n",
       "    <tr>\n",
       "      <th>1</th>\n",
       "      <td>Spice Elephant</td>\n",
       "      <td>Yes</td>\n",
       "      <td>No</td>\n",
       "      <td>4.1</td>\n",
       "      <td>787</td>\n",
       "      <td>[Momos, LunchBuffet, ChocolateNirvana, ThaiGre...</td>\n",
       "      <td>800</td>\n",
       "      <td>momo lunchbuffet chocolatenirvana thaigreencur...</td>\n",
       "    </tr>\n",
       "    <tr>\n",
       "      <th>2</th>\n",
       "      <td>San Churro Cafe</td>\n",
       "      <td>Yes</td>\n",
       "      <td>No</td>\n",
       "      <td>3.8</td>\n",
       "      <td>918</td>\n",
       "      <td>[Churros, Cannelloni, MinestroneSoup, HotChoco...</td>\n",
       "      <td>800</td>\n",
       "      <td>churro cannelloni minestronesoup hotchocol pin...</td>\n",
       "    </tr>\n",
       "    <tr>\n",
       "      <th>3</th>\n",
       "      <td>Addhuri Udupi Bhojana</td>\n",
       "      <td>No</td>\n",
       "      <td>No</td>\n",
       "      <td>3.7</td>\n",
       "      <td>88</td>\n",
       "      <td>[MasalaDosa]</td>\n",
       "      <td>300</td>\n",
       "      <td>masaladosa great food and proper karnataka sty...</td>\n",
       "    </tr>\n",
       "    <tr>\n",
       "      <th>4</th>\n",
       "      <td>Grand Village</td>\n",
       "      <td>No</td>\n",
       "      <td>No</td>\n",
       "      <td>3.8</td>\n",
       "      <td>166</td>\n",
       "      <td>[Panipuri, GolGappe]</td>\n",
       "      <td>600</td>\n",
       "      <td>buffet banashankari basavanagudi casualdin nor...</td>\n",
       "    </tr>\n",
       "  </tbody>\n",
       "</table>\n",
       "</div>"
      ],
      "text/plain": [
       "                    name online_order book_table rate  votes  \\\n",
       "0                  Jalsa          Yes        Yes  4.1    775   \n",
       "1         Spice Elephant          Yes         No  4.1    787   \n",
       "2        San Churro Cafe          Yes         No  3.8    918   \n",
       "3  Addhuri Udupi Bhojana           No         No  3.7     88   \n",
       "4          Grand Village           No         No  3.8    166   \n",
       "\n",
       "                                          dish_liked  \\\n",
       "0  [Pasta, LunchBuffet, MasalaPapad, PaneerLajawa...   \n",
       "1  [Momos, LunchBuffet, ChocolateNirvana, ThaiGre...   \n",
       "2  [Churros, Cannelloni, MinestroneSoup, HotChoco...   \n",
       "3                                       [MasalaDosa]   \n",
       "4                               [Panipuri, GolGappe]   \n",
       "\n",
       "  approx_cost(for two people)  \\\n",
       "0                         800   \n",
       "1                         800   \n",
       "2                         800   \n",
       "3                         300   \n",
       "4                         600   \n",
       "\n",
       "                                                tags  \n",
       "0  pasta lunchbuffet masalapapad paneerlajawab to...  \n",
       "1  momo lunchbuffet chocolatenirvana thaigreencur...  \n",
       "2  churro cannelloni minestronesoup hotchocol pin...  \n",
       "3  masaladosa great food and proper karnataka sty...  \n",
       "4  buffet banashankari basavanagudi casualdin nor...  "
      ]
     },
     "execution_count": 66,
     "metadata": {},
     "output_type": "execute_result"
    }
   ],
   "source": [
    "new_df.head()"
   ]
  },
  {
   "cell_type": "code",
   "execution_count": 67,
   "id": "925681c6",
   "metadata": {},
   "outputs": [],
   "source": [
    "new_df.to_csv('zomato_clean.csv', index = False)"
   ]
  },
  {
   "cell_type": "code",
   "execution_count": 68,
   "id": "a441c04c",
   "metadata": {},
   "outputs": [],
   "source": [
    "s1 = data['listed_in(type)'] + data['listed_in(city)'] + data['updated_location'] + data['updated_rest_type'] + data['updated_cuisines']\n",
    "s2 = data['dish_liked'] + data['reviews_list'] + data['listed_in(type)'] + data['listed_in(city)'] + data['updated_location'] + data['updated_rest_type'] + data['updated_cuisines']\n",
    "\n",
    "data['tags'] = np.where(data['reviews_list'].isnull(), s1, s2) \n",
    "         \n"
   ]
  },
  {
   "cell_type": "code",
   "execution_count": 69,
   "id": "4a9b5823",
   "metadata": {},
   "outputs": [],
   "source": [
    "new_df = data.drop(['reviews_list' ,'listed_in(type)', 'listed_in(city)', 'updated_location', 'updated_rest_type', 'updated_cuisines'], axis = 1)"
   ]
  },
  {
   "cell_type": "code",
   "execution_count": 70,
   "id": "faf5d8e5",
   "metadata": {},
   "outputs": [],
   "source": [
    "new_df['tags'] = new_df['tags'].apply(lambda x:\" \".join(x))"
   ]
  },
  {
   "cell_type": "code",
   "execution_count": 71,
   "id": "72fba2ca",
   "metadata": {},
   "outputs": [],
   "source": [
    "new_df['tags'] = new_df['tags'].apply(lambda x:x.lower())"
   ]
  },
  {
   "cell_type": "code",
   "execution_count": 72,
   "id": "115bfd12",
   "metadata": {
    "scrolled": true
   },
   "outputs": [
    {
     "data": {
      "text/plain": [
       "'pasta lunchbuffet masalapapad paneerlajawab tomatoshorba dumbiryani sweetcornsoup   a beautiful place to dine in the interiors take you back to the mughal era  the lightings are just perfect we went there on the occasion of christmas and so they had only limited items available  but the taste and service was not compromised at all the only complaint is that the breads could have been better would surely like to come here again  buffet banashankari banashankari casualdining northindian mughlai chinese'"
      ]
     },
     "execution_count": 72,
     "metadata": {},
     "output_type": "execute_result"
    }
   ],
   "source": [
    "new_df['tags'][0]"
   ]
  },
  {
   "cell_type": "markdown",
   "id": "db126dc4",
   "metadata": {},
   "source": [
    "## Performing cosine similarity"
   ]
  },
  {
   "cell_type": "code",
   "execution_count": 73,
   "id": "dabb5774",
   "metadata": {},
   "outputs": [],
   "source": [
    "from sklearn.metrics.pairwise import cosine_similarity"
   ]
  },
  {
   "cell_type": "code",
   "execution_count": 74,
   "id": "cdb130e3",
   "metadata": {},
   "outputs": [],
   "source": [
    "similarity = cosine_similarity(vectors)"
   ]
  },
  {
   "cell_type": "code",
   "execution_count": 75,
   "id": "9e0f26fa",
   "metadata": {},
   "outputs": [
    {
     "data": {
      "text/plain": [
       "array([[1.        , 0.31622777, 0.14509525, ..., 0.        , 0.06666667,\n",
       "        0.        ],\n",
       "       [0.31622777, 1.        , 0.27529888, ..., 0.        , 0.06324555,\n",
       "        0.        ],\n",
       "       [0.14509525, 0.27529888, 1.        , ..., 0.29346959, 0.        ,\n",
       "        0.        ],\n",
       "       ...,\n",
       "       [0.        , 0.        , 0.29346959, ..., 1.        , 0.26967994,\n",
       "        0.24618298],\n",
       "       [0.06666667, 0.06324555, 0.        , ..., 0.26967994, 1.        ,\n",
       "        0.36514837],\n",
       "       [0.        , 0.        , 0.        , ..., 0.24618298, 0.36514837,\n",
       "        1.        ]])"
      ]
     },
     "execution_count": 75,
     "metadata": {},
     "output_type": "execute_result"
    }
   ],
   "source": [
    "similarity"
   ]
  },
  {
   "cell_type": "markdown",
   "id": "81cb8ea6",
   "metadata": {},
   "source": [
    "## Recommendation main function"
   ]
  },
  {
   "cell_type": "code",
   "execution_count": 76,
   "id": "6088966c",
   "metadata": {},
   "outputs": [],
   "source": [
    "def recomm(res):\n",
    "    res_ind = new_df[new_df['name'] == res].index[0]\n",
    "    res_list = sorted(list(enumerate(similarity[res_ind])), reverse = True, key = lambda x: x[1])[1:6]\n",
    "#     print(sorted(list(enumerate(similarity[res_ind])), reverse = True, key = lambda x: x[1]))\n",
    "    \n",
    "    for i in res_list:\n",
    "        print(new_df.iloc[i[0]]['name'])"
   ]
  },
  {
   "cell_type": "code",
   "execution_count": 80,
   "id": "738e28a2",
   "metadata": {},
   "outputs": [
    {
     "name": "stdout",
     "output_type": "stream",
     "text": [
      "Pizza Hut\n",
      "Pizza Hut\n",
      "Melting Melodies\n",
      "The Pizzeria\n",
      "Nandhini Deluxe\n"
     ]
    }
   ],
   "source": [
    "recomm('Pizza Hut')"
   ]
  },
  {
   "cell_type": "code",
   "execution_count": null,
   "id": "4a149b85",
   "metadata": {},
   "outputs": [],
   "source": []
  }
 ],
 "metadata": {
  "kernelspec": {
   "display_name": "Python 3",
   "language": "python",
   "name": "python3"
  },
  "language_info": {
   "codemirror_mode": {
    "name": "ipython",
    "version": 3
   },
   "file_extension": ".py",
   "mimetype": "text/x-python",
   "name": "python",
   "nbconvert_exporter": "python",
   "pygments_lexer": "ipython3",
   "version": "3.8.8"
  }
 },
 "nbformat": 4,
 "nbformat_minor": 5
}
